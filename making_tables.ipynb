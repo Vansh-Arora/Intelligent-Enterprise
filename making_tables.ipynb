{
 "metadata": {
  "language_info": {
   "codemirror_mode": {
    "name": "ipython",
    "version": 3
   },
   "file_extension": ".py",
   "mimetype": "text/x-python",
   "name": "python",
   "nbconvert_exporter": "python",
   "pygments_lexer": "ipython3",
   "version": "3.9.2"
  },
  "orig_nbformat": 4,
  "kernelspec": {
   "name": "python3",
   "display_name": "Python 3.9.2 64-bit"
  },
  "interpreter": {
   "hash": "8507e6bbef37eeab2cd33b933a8b9d90e5ac7a462e5035eb92b0ca88d9b3cb44"
  }
 },
 "nbformat": 4,
 "nbformat_minor": 2,
 "cells": [
  {
   "cell_type": "code",
   "execution_count": 1,
   "metadata": {},
   "outputs": [],
   "source": [
    "import pandas as pd"
   ]
  },
  {
   "cell_type": "code",
   "execution_count": 2,
   "metadata": {},
   "outputs": [],
   "source": [
    "p1 = r\"F:\\\\Intern\\\\dataset\\\\olist_customers_dataset.csv\"\n",
    "p2 = r\"F:\\\\Intern\\\\dataset\\\\olist_order_items_dataset.csv\"\n",
    "p3 = r\"F:\\\\Intern\\\\dataset\\\\olist_orders_dataset.csv\"\n",
    "p4 = r\"F:\\\\Intern\\\\dataset\\\\olist_order_reviews_dataset.csv\"\n",
    "p5 = r\"F:\\\\Intern\\\\dataset\\\\olist_products_dataset.csv\""
   ]
  },
  {
   "cell_type": "code",
   "execution_count": 3,
   "metadata": {},
   "outputs": [],
   "source": [
    "custId = pd.read_csv(p1)\n",
    "orderId = pd.read_csv(p3)\n",
    "review = pd.read_csv(p4)\n",
    "orderItems = pd.read_csv(p2)\n",
    "pro_id = pd.read_csv(p5)"
   ]
  },
  {
   "cell_type": "code",
   "execution_count": 4,
   "metadata": {},
   "outputs": [],
   "source": [
    "customer = custId[['customer_unique_id','customer_id','customer_city','customer_state']]\n",
    "order = orderId[['customer_id','order_id']]\n",
    "orderItem = orderItems[['order_id','product_id']]\n",
    "product = pro_id[['product_id','product_category_name']]\n",
    "reviews = review[['review_id','order_id','review_score']]"
   ]
  },
  {
   "cell_type": "code",
   "execution_count": 5,
   "metadata": {},
   "outputs": [
    {
     "output_type": "stream",
     "name": "stderr",
     "text": [
      "<ipython-input-5-8d5569d7a392>:2: SettingWithCopyWarning: \nA value is trying to be set on a copy of a slice from a DataFrame.\nTry using .loc[row_indexer,col_indexer] = value instead\n\nSee the caveats in the documentation: https://pandas.pydata.org/pandas-docs/stable/user_guide/indexing.html#returning-a-view-versus-a-copy\n  product['new_product_id'] = new_product_id\n"
     ]
    }
   ],
   "source": [
    "new_product_id = [i for i in range(32951)]\n",
    "product['new_product_id'] = new_product_id"
   ]
  },
  {
   "cell_type": "code",
   "execution_count": 6,
   "metadata": {},
   "outputs": [],
   "source": [
    "main_table = customer.merge(order,how='inner',on='customer_id')"
   ]
  },
  {
   "cell_type": "code",
   "execution_count": 7,
   "metadata": {},
   "outputs": [],
   "source": [
    "main_table = main_table.merge(orderItem,how='inner',on='order_id')"
   ]
  },
  {
   "cell_type": "code",
   "execution_count": 8,
   "metadata": {},
   "outputs": [],
   "source": [
    "main_table = main_table.merge(product,how='inner',on='product_id')"
   ]
  },
  {
   "cell_type": "code",
   "execution_count": 9,
   "metadata": {},
   "outputs": [],
   "source": [
    "main_table = main_table.merge(reviews,how='inner',on='order_id')"
   ]
  },
  {
   "cell_type": "code",
   "execution_count": 11,
   "metadata": {},
   "outputs": [],
   "source": [
    "main_table.to_csv(path_or_buf=\"F:\\\\Intern\\\\all_data\" + \".csv\",index=False)"
   ]
  },
  {
   "cell_type": "code",
   "execution_count": 12,
   "metadata": {},
   "outputs": [
    {
     "output_type": "execute_result",
     "data": {
      "text/plain": [
       "                      customer_unique_id                       customer_id  \\\n",
       "0       861eff4711a542e4b93843c6dd7febb0  06b8999e2fba1a1fbc88172c00ba8bc7   \n",
       "1       9eae34bbd3a474ec5d07949ca7de67c0  8912fc0c3bbf1e2fbf35819e21706718   \n",
       "2       9eae34bbd3a474ec5d07949ca7de67c0  8912fc0c3bbf1e2fbf35819e21706718   \n",
       "3       3c799d181c34d51f6d44bbbc563024db  f0ac8e5a239118859b1734e1087cbb1f   \n",
       "4       23397e992b09769faf5e66f9e171a241  6bc8d08963a135220ed6c6d098831f84   \n",
       "...                                  ...                               ...   \n",
       "113317  fb354969e06f2093c0083cbfbb91864e  f6c6d3e1e20969a5eed982163f959719   \n",
       "113318  5f2971f9805e3ccb030226e30c8e8390  da37711b17efd5f2539e8196ab215f04   \n",
       "113319  c64ede6d0ae8901b1b6fb03528c1b7e6  184e0c2cfc746789643521df0e9ff904   \n",
       "113320  046470763123d3d6364f89095b4e47ab  821a7275a08f32975caceff2e08ea262   \n",
       "113321  82d46759af0369aad49084bacf85a6c3  1ed0c832c2dd99570a59260e71768bdf   \n",
       "\n",
       "              customer_city customer_state                          order_id  \\\n",
       "0                    franca             SP  00e7ee1b050b8499577073aeb2a297a1   \n",
       "1                  santarem             PA  c1d2b34febe9cd269e378117d6681172   \n",
       "2                  santarem             PA  c1d2b34febe9cd269e378117d6681172   \n",
       "3           nova santa rita             RS  b1a5d5365d330d10485e0203d54ab9e8   \n",
       "4                      mage             RJ  2e604b3614664aa66867856dba7e61b7   \n",
       "...                     ...            ...                               ...   \n",
       "113317            sao paulo             SP  b2f58affcc178fea2daaf834f1acff5e   \n",
       "113318            sao paulo             SP  c8203bb57639618630affac9e8e923dd   \n",
       "113319  sao miguel do guama             PA  45b3000bcd10464ac178f32cd783fc83   \n",
       "113320            sao paulo             SP  49645a8902c1ba980836b7bff991d69f   \n",
       "113321          bom repouso             MG  51c6d2f460589fa7b65f2da51e860206   \n",
       "\n",
       "                              product_id        product_category_name  \\\n",
       "0       a9516a079e37a9c9c36b9b78b10169e8            moveis_escritorio   \n",
       "1       a9516a079e37a9c9c36b9b78b10169e8            moveis_escritorio   \n",
       "2       a9516a079e37a9c9c36b9b78b10169e8            moveis_escritorio   \n",
       "3       a9516a079e37a9c9c36b9b78b10169e8            moveis_escritorio   \n",
       "4       a9516a079e37a9c9c36b9b78b10169e8            moveis_escritorio   \n",
       "...                                  ...                          ...   \n",
       "113317  9682ad2500ae8b2609e6a88eb0cbc5bb                casa_conforto   \n",
       "113318  aea06073397f809424f946979354c9f0                     pet_shop   \n",
       "113319  bbf975bffd2ae9ee52f513ae5c8a4b27                 beleza_saude   \n",
       "113320  f6e0a9ce8a6e91c3a0ca2d3005911d20  fashion_bolsas_e_acessorios   \n",
       "113321  c98bf47f7bea8f3aee82fa023786b8a1                  eletronicos   \n",
       "\n",
       "        new_product_id                         review_id  review_score  \n",
       "0                32209  88b8b52d46df026a9d1ad2136a59b30b             4  \n",
       "1                32209  7fc63200f12eebb5f387856afdd63db8             1  \n",
       "2                32209  7fc63200f12eebb5f387856afdd63db8             1  \n",
       "3                32209  251191809e37c1cffc16865947c18a4d             3  \n",
       "4                32209  f7123bac5b91a0e2e38d8b41fd1206f4             4  \n",
       "...                ...                               ...           ...  \n",
       "113317            4113  17e0e42ddf0dd7ebceff457b7c1da303             3  \n",
       "113318           15001  f3642bae4843d919c4c53ec1ff8fe26d             4  \n",
       "113319           25117  6dfe34036fd1f79225daeaca9cf083c2             4  \n",
       "113320           21545  260447daa5d738ced8f4e0bbee8a08a2             5  \n",
       "113321            2802  603f2873842a6975a43c54d305397d69             1  \n",
       "\n",
       "[113322 rows x 10 columns]"
      ],
      "text/html": "<div>\n<style scoped>\n    .dataframe tbody tr th:only-of-type {\n        vertical-align: middle;\n    }\n\n    .dataframe tbody tr th {\n        vertical-align: top;\n    }\n\n    .dataframe thead th {\n        text-align: right;\n    }\n</style>\n<table border=\"1\" class=\"dataframe\">\n  <thead>\n    <tr style=\"text-align: right;\">\n      <th></th>\n      <th>customer_unique_id</th>\n      <th>customer_id</th>\n      <th>customer_city</th>\n      <th>customer_state</th>\n      <th>order_id</th>\n      <th>product_id</th>\n      <th>product_category_name</th>\n      <th>new_product_id</th>\n      <th>review_id</th>\n      <th>review_score</th>\n    </tr>\n  </thead>\n  <tbody>\n    <tr>\n      <th>0</th>\n      <td>861eff4711a542e4b93843c6dd7febb0</td>\n      <td>06b8999e2fba1a1fbc88172c00ba8bc7</td>\n      <td>franca</td>\n      <td>SP</td>\n      <td>00e7ee1b050b8499577073aeb2a297a1</td>\n      <td>a9516a079e37a9c9c36b9b78b10169e8</td>\n      <td>moveis_escritorio</td>\n      <td>32209</td>\n      <td>88b8b52d46df026a9d1ad2136a59b30b</td>\n      <td>4</td>\n    </tr>\n    <tr>\n      <th>1</th>\n      <td>9eae34bbd3a474ec5d07949ca7de67c0</td>\n      <td>8912fc0c3bbf1e2fbf35819e21706718</td>\n      <td>santarem</td>\n      <td>PA</td>\n      <td>c1d2b34febe9cd269e378117d6681172</td>\n      <td>a9516a079e37a9c9c36b9b78b10169e8</td>\n      <td>moveis_escritorio</td>\n      <td>32209</td>\n      <td>7fc63200f12eebb5f387856afdd63db8</td>\n      <td>1</td>\n    </tr>\n    <tr>\n      <th>2</th>\n      <td>9eae34bbd3a474ec5d07949ca7de67c0</td>\n      <td>8912fc0c3bbf1e2fbf35819e21706718</td>\n      <td>santarem</td>\n      <td>PA</td>\n      <td>c1d2b34febe9cd269e378117d6681172</td>\n      <td>a9516a079e37a9c9c36b9b78b10169e8</td>\n      <td>moveis_escritorio</td>\n      <td>32209</td>\n      <td>7fc63200f12eebb5f387856afdd63db8</td>\n      <td>1</td>\n    </tr>\n    <tr>\n      <th>3</th>\n      <td>3c799d181c34d51f6d44bbbc563024db</td>\n      <td>f0ac8e5a239118859b1734e1087cbb1f</td>\n      <td>nova santa rita</td>\n      <td>RS</td>\n      <td>b1a5d5365d330d10485e0203d54ab9e8</td>\n      <td>a9516a079e37a9c9c36b9b78b10169e8</td>\n      <td>moveis_escritorio</td>\n      <td>32209</td>\n      <td>251191809e37c1cffc16865947c18a4d</td>\n      <td>3</td>\n    </tr>\n    <tr>\n      <th>4</th>\n      <td>23397e992b09769faf5e66f9e171a241</td>\n      <td>6bc8d08963a135220ed6c6d098831f84</td>\n      <td>mage</td>\n      <td>RJ</td>\n      <td>2e604b3614664aa66867856dba7e61b7</td>\n      <td>a9516a079e37a9c9c36b9b78b10169e8</td>\n      <td>moveis_escritorio</td>\n      <td>32209</td>\n      <td>f7123bac5b91a0e2e38d8b41fd1206f4</td>\n      <td>4</td>\n    </tr>\n    <tr>\n      <th>...</th>\n      <td>...</td>\n      <td>...</td>\n      <td>...</td>\n      <td>...</td>\n      <td>...</td>\n      <td>...</td>\n      <td>...</td>\n      <td>...</td>\n      <td>...</td>\n      <td>...</td>\n    </tr>\n    <tr>\n      <th>113317</th>\n      <td>fb354969e06f2093c0083cbfbb91864e</td>\n      <td>f6c6d3e1e20969a5eed982163f959719</td>\n      <td>sao paulo</td>\n      <td>SP</td>\n      <td>b2f58affcc178fea2daaf834f1acff5e</td>\n      <td>9682ad2500ae8b2609e6a88eb0cbc5bb</td>\n      <td>casa_conforto</td>\n      <td>4113</td>\n      <td>17e0e42ddf0dd7ebceff457b7c1da303</td>\n      <td>3</td>\n    </tr>\n    <tr>\n      <th>113318</th>\n      <td>5f2971f9805e3ccb030226e30c8e8390</td>\n      <td>da37711b17efd5f2539e8196ab215f04</td>\n      <td>sao paulo</td>\n      <td>SP</td>\n      <td>c8203bb57639618630affac9e8e923dd</td>\n      <td>aea06073397f809424f946979354c9f0</td>\n      <td>pet_shop</td>\n      <td>15001</td>\n      <td>f3642bae4843d919c4c53ec1ff8fe26d</td>\n      <td>4</td>\n    </tr>\n    <tr>\n      <th>113319</th>\n      <td>c64ede6d0ae8901b1b6fb03528c1b7e6</td>\n      <td>184e0c2cfc746789643521df0e9ff904</td>\n      <td>sao miguel do guama</td>\n      <td>PA</td>\n      <td>45b3000bcd10464ac178f32cd783fc83</td>\n      <td>bbf975bffd2ae9ee52f513ae5c8a4b27</td>\n      <td>beleza_saude</td>\n      <td>25117</td>\n      <td>6dfe34036fd1f79225daeaca9cf083c2</td>\n      <td>4</td>\n    </tr>\n    <tr>\n      <th>113320</th>\n      <td>046470763123d3d6364f89095b4e47ab</td>\n      <td>821a7275a08f32975caceff2e08ea262</td>\n      <td>sao paulo</td>\n      <td>SP</td>\n      <td>49645a8902c1ba980836b7bff991d69f</td>\n      <td>f6e0a9ce8a6e91c3a0ca2d3005911d20</td>\n      <td>fashion_bolsas_e_acessorios</td>\n      <td>21545</td>\n      <td>260447daa5d738ced8f4e0bbee8a08a2</td>\n      <td>5</td>\n    </tr>\n    <tr>\n      <th>113321</th>\n      <td>82d46759af0369aad49084bacf85a6c3</td>\n      <td>1ed0c832c2dd99570a59260e71768bdf</td>\n      <td>bom repouso</td>\n      <td>MG</td>\n      <td>51c6d2f460589fa7b65f2da51e860206</td>\n      <td>c98bf47f7bea8f3aee82fa023786b8a1</td>\n      <td>eletronicos</td>\n      <td>2802</td>\n      <td>603f2873842a6975a43c54d305397d69</td>\n      <td>1</td>\n    </tr>\n  </tbody>\n</table>\n<p>113322 rows × 10 columns</p>\n</div>"
     },
     "metadata": {},
     "execution_count": 12
    }
   ],
   "source": [
    "main_table"
   ]
  },
  {
   "cell_type": "code",
   "execution_count": null,
   "metadata": {},
   "outputs": [],
   "source": []
  }
 ]
}