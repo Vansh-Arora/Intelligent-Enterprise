{
 "metadata": {
  "language_info": {
   "codemirror_mode": {
    "name": "ipython",
    "version": 3
   },
   "file_extension": ".py",
   "mimetype": "text/x-python",
   "name": "python",
   "nbconvert_exporter": "python",
   "pygments_lexer": "ipython3",
   "version": "3.9.2"
  },
  "orig_nbformat": 4,
  "kernelspec": {
   "name": "python3",
   "display_name": "Python 3.9.2 64-bit"
  },
  "interpreter": {
   "hash": "8507e6bbef37eeab2cd33b933a8b9d90e5ac7a462e5035eb92b0ca88d9b3cb44"
  }
 },
 "nbformat": 4,
 "nbformat_minor": 2,
 "cells": [
  {
   "cell_type": "code",
   "execution_count": 1,
   "metadata": {},
   "outputs": [],
   "source": [
    "import pandas as pd"
   ]
  },
  {
   "cell_type": "code",
   "execution_count": 2,
   "metadata": {},
   "outputs": [],
   "source": [
    "p1 = r\"F:\\\\Intern\\\\dataset\\\\olist_customers_dataset.csv\"\n",
    "p2 = r\"F:\\\\Intern\\\\dataset\\\\olist_order_items_dataset.csv\"\n",
    "p3 = r\"F:\\\\Intern\\\\dataset\\\\olist_orders_dataset.csv\"\n",
    "p4 = r\"F:\\\\Intern\\\\dataset\\\\olist_order_reviews_dataset.csv\"\n",
    "p5 = r\"F:\\\\Intern\\\\dataset\\\\olist_products_dataset.csv\""
   ]
  },
  {
   "cell_type": "code",
   "execution_count": 3,
   "metadata": {},
   "outputs": [],
   "source": [
    "custId = pd.read_csv(p1)\n",
    "orderId = pd.read_csv(p3)\n",
    "review = pd.read_csv(p4)\n",
    "orderItems = pd.read_csv(p2)\n",
    "pro_id = pd.read_csv(p5)"
   ]
  },
  {
   "cell_type": "code",
   "execution_count": 4,
   "metadata": {},
   "outputs": [],
   "source": [
    "customer = custId[['customer_unique_id','customer_id']]\n",
    "order = orderId[['customer_id','order_id']]\n",
    "orderItem = orderItems[['order_id','product_id']]\n",
    "product = pro_id[['product_id','product_category_name']]\n",
    "reviews = review[['review_id','order_id','review_score']]"
   ]
  },
  {
   "source": [
    "# Hashing customer Unique Id"
   ],
   "cell_type": "markdown",
   "metadata": {}
  },
  {
   "cell_type": "code",
   "execution_count": 5,
   "metadata": {},
   "outputs": [
    {
     "output_type": "execute_result",
     "data": {
      "text/plain": [
       "99441"
      ]
     },
     "metadata": {},
     "execution_count": 5
    }
   ],
   "source": [
    "len(customer)"
   ]
  },
  {
   "cell_type": "code",
   "execution_count": 6,
   "metadata": {},
   "outputs": [
    {
     "output_type": "execute_result",
     "data": {
      "text/plain": [
       "99441"
      ]
     },
     "metadata": {},
     "execution_count": 6
    }
   ],
   "source": [
    "len(customer.customer_id.unique())"
   ]
  },
  {
   "cell_type": "code",
   "execution_count": 7,
   "metadata": {},
   "outputs": [
    {
     "output_type": "execute_result",
     "data": {
      "text/plain": [
       "96096"
      ]
     },
     "metadata": {},
     "execution_count": 7
    }
   ],
   "source": [
    "len(customer.customer_unique_id.unique())"
   ]
  },
  {
   "cell_type": "code",
   "execution_count": 8,
   "metadata": {},
   "outputs": [
    {
     "output_type": "execute_result",
     "data": {
      "text/plain": [
       "                     customer_unique_id                       customer_id\n",
       "0      861eff4711a542e4b93843c6dd7febb0  06b8999e2fba1a1fbc88172c00ba8bc7\n",
       "1      290c77bc529b7ac935b93aa66c333dc3  18955e83d337fd6b2def6b18a428ac77\n",
       "2      060e732b5b29e8181a18229c7b0b2b5e  4e7b3e00288586ebd08712fdd0374a03\n",
       "3      259dac757896d24d7702b9acbbff3f3c  b2b6027bc5c5109e529d4dc6358b12c3\n",
       "4      345ecd01c38d18a9036ed96c73b8d066  4f2d8ab171c80ec8364f7c12e35b23ad\n",
       "...                                 ...                               ...\n",
       "99436  1a29b476fee25c95fbafc67c5ac95cf8  17ddf5dd5d51696bb3d7c6291687be6f\n",
       "99437  d52a67c98be1cf6a5c84435bd38d095d  e7b71a9017aa05c9a7fd292d714858e8\n",
       "99438  e9f50caf99f032f0bf3c55141f019d99  5e28dfe12db7fb50a4b2f691faecea5e\n",
       "99439  73c2643a0a458b49f58cea58833b192e  56b18e2166679b8a959d72dd06da27f9\n",
       "99440  84732c5050c01db9b23e19ba39899398  274fa6071e5e17fe303b9748641082c8\n",
       "\n",
       "[99441 rows x 2 columns]"
      ],
      "text/html": "<div>\n<style scoped>\n    .dataframe tbody tr th:only-of-type {\n        vertical-align: middle;\n    }\n\n    .dataframe tbody tr th {\n        vertical-align: top;\n    }\n\n    .dataframe thead th {\n        text-align: right;\n    }\n</style>\n<table border=\"1\" class=\"dataframe\">\n  <thead>\n    <tr style=\"text-align: right;\">\n      <th></th>\n      <th>customer_unique_id</th>\n      <th>customer_id</th>\n    </tr>\n  </thead>\n  <tbody>\n    <tr>\n      <th>0</th>\n      <td>861eff4711a542e4b93843c6dd7febb0</td>\n      <td>06b8999e2fba1a1fbc88172c00ba8bc7</td>\n    </tr>\n    <tr>\n      <th>1</th>\n      <td>290c77bc529b7ac935b93aa66c333dc3</td>\n      <td>18955e83d337fd6b2def6b18a428ac77</td>\n    </tr>\n    <tr>\n      <th>2</th>\n      <td>060e732b5b29e8181a18229c7b0b2b5e</td>\n      <td>4e7b3e00288586ebd08712fdd0374a03</td>\n    </tr>\n    <tr>\n      <th>3</th>\n      <td>259dac757896d24d7702b9acbbff3f3c</td>\n      <td>b2b6027bc5c5109e529d4dc6358b12c3</td>\n    </tr>\n    <tr>\n      <th>4</th>\n      <td>345ecd01c38d18a9036ed96c73b8d066</td>\n      <td>4f2d8ab171c80ec8364f7c12e35b23ad</td>\n    </tr>\n    <tr>\n      <th>...</th>\n      <td>...</td>\n      <td>...</td>\n    </tr>\n    <tr>\n      <th>99436</th>\n      <td>1a29b476fee25c95fbafc67c5ac95cf8</td>\n      <td>17ddf5dd5d51696bb3d7c6291687be6f</td>\n    </tr>\n    <tr>\n      <th>99437</th>\n      <td>d52a67c98be1cf6a5c84435bd38d095d</td>\n      <td>e7b71a9017aa05c9a7fd292d714858e8</td>\n    </tr>\n    <tr>\n      <th>99438</th>\n      <td>e9f50caf99f032f0bf3c55141f019d99</td>\n      <td>5e28dfe12db7fb50a4b2f691faecea5e</td>\n    </tr>\n    <tr>\n      <th>99439</th>\n      <td>73c2643a0a458b49f58cea58833b192e</td>\n      <td>56b18e2166679b8a959d72dd06da27f9</td>\n    </tr>\n    <tr>\n      <th>99440</th>\n      <td>84732c5050c01db9b23e19ba39899398</td>\n      <td>274fa6071e5e17fe303b9748641082c8</td>\n    </tr>\n  </tbody>\n</table>\n<p>99441 rows × 2 columns</p>\n</div>"
     },
     "metadata": {},
     "execution_count": 8
    }
   ],
   "source": [
    "customer"
   ]
  },
  {
   "cell_type": "code",
   "execution_count": 9,
   "metadata": {},
   "outputs": [],
   "source": [
    "unique_cust_id_dict = {}\n",
    "new_cust_uniq_id = []\n",
    "num = 0"
   ]
  },
  {
   "cell_type": "code",
   "execution_count": 10,
   "metadata": {},
   "outputs": [],
   "source": [
    "for i in customer.customer_unique_id:\n",
    "    if i in unique_cust_id_dict:\n",
    "        new_cust_uniq_id.append(unique_cust_id_dict[i])\n",
    "    else:\n",
    "        unique_cust_id_dict[i] = num\n",
    "        new_cust_uniq_id.append(num)\n",
    "        num += 1"
   ]
  },
  {
   "cell_type": "code",
   "execution_count": 11,
   "metadata": {},
   "outputs": [
    {
     "output_type": "stream",
     "name": "stderr",
     "text": [
      "<ipython-input-11-62cfe8d95e84>:1: SettingWithCopyWarning: \nA value is trying to be set on a copy of a slice from a DataFrame.\nTry using .loc[row_indexer,col_indexer] = value instead\n\nSee the caveats in the documentation: https://pandas.pydata.org/pandas-docs/stable/user_guide/indexing.html#returning-a-view-versus-a-copy\n  customer['new_customer_unique_id'] = new_cust_uniq_id\n"
     ]
    },
    {
     "output_type": "execute_result",
     "data": {
      "text/plain": [
       "                     customer_unique_id                       customer_id  \\\n",
       "0      861eff4711a542e4b93843c6dd7febb0  06b8999e2fba1a1fbc88172c00ba8bc7   \n",
       "1      290c77bc529b7ac935b93aa66c333dc3  18955e83d337fd6b2def6b18a428ac77   \n",
       "2      060e732b5b29e8181a18229c7b0b2b5e  4e7b3e00288586ebd08712fdd0374a03   \n",
       "3      259dac757896d24d7702b9acbbff3f3c  b2b6027bc5c5109e529d4dc6358b12c3   \n",
       "4      345ecd01c38d18a9036ed96c73b8d066  4f2d8ab171c80ec8364f7c12e35b23ad   \n",
       "...                                 ...                               ...   \n",
       "99436  1a29b476fee25c95fbafc67c5ac95cf8  17ddf5dd5d51696bb3d7c6291687be6f   \n",
       "99437  d52a67c98be1cf6a5c84435bd38d095d  e7b71a9017aa05c9a7fd292d714858e8   \n",
       "99438  e9f50caf99f032f0bf3c55141f019d99  5e28dfe12db7fb50a4b2f691faecea5e   \n",
       "99439  73c2643a0a458b49f58cea58833b192e  56b18e2166679b8a959d72dd06da27f9   \n",
       "99440  84732c5050c01db9b23e19ba39899398  274fa6071e5e17fe303b9748641082c8   \n",
       "\n",
       "       new_customer_unique_id  \n",
       "0                           0  \n",
       "1                           1  \n",
       "2                           2  \n",
       "3                           3  \n",
       "4                           4  \n",
       "...                       ...  \n",
       "99436                   96091  \n",
       "99437                   96092  \n",
       "99438                   96093  \n",
       "99439                   96094  \n",
       "99440                   96095  \n",
       "\n",
       "[99441 rows x 3 columns]"
      ],
      "text/html": "<div>\n<style scoped>\n    .dataframe tbody tr th:only-of-type {\n        vertical-align: middle;\n    }\n\n    .dataframe tbody tr th {\n        vertical-align: top;\n    }\n\n    .dataframe thead th {\n        text-align: right;\n    }\n</style>\n<table border=\"1\" class=\"dataframe\">\n  <thead>\n    <tr style=\"text-align: right;\">\n      <th></th>\n      <th>customer_unique_id</th>\n      <th>customer_id</th>\n      <th>new_customer_unique_id</th>\n    </tr>\n  </thead>\n  <tbody>\n    <tr>\n      <th>0</th>\n      <td>861eff4711a542e4b93843c6dd7febb0</td>\n      <td>06b8999e2fba1a1fbc88172c00ba8bc7</td>\n      <td>0</td>\n    </tr>\n    <tr>\n      <th>1</th>\n      <td>290c77bc529b7ac935b93aa66c333dc3</td>\n      <td>18955e83d337fd6b2def6b18a428ac77</td>\n      <td>1</td>\n    </tr>\n    <tr>\n      <th>2</th>\n      <td>060e732b5b29e8181a18229c7b0b2b5e</td>\n      <td>4e7b3e00288586ebd08712fdd0374a03</td>\n      <td>2</td>\n    </tr>\n    <tr>\n      <th>3</th>\n      <td>259dac757896d24d7702b9acbbff3f3c</td>\n      <td>b2b6027bc5c5109e529d4dc6358b12c3</td>\n      <td>3</td>\n    </tr>\n    <tr>\n      <th>4</th>\n      <td>345ecd01c38d18a9036ed96c73b8d066</td>\n      <td>4f2d8ab171c80ec8364f7c12e35b23ad</td>\n      <td>4</td>\n    </tr>\n    <tr>\n      <th>...</th>\n      <td>...</td>\n      <td>...</td>\n      <td>...</td>\n    </tr>\n    <tr>\n      <th>99436</th>\n      <td>1a29b476fee25c95fbafc67c5ac95cf8</td>\n      <td>17ddf5dd5d51696bb3d7c6291687be6f</td>\n      <td>96091</td>\n    </tr>\n    <tr>\n      <th>99437</th>\n      <td>d52a67c98be1cf6a5c84435bd38d095d</td>\n      <td>e7b71a9017aa05c9a7fd292d714858e8</td>\n      <td>96092</td>\n    </tr>\n    <tr>\n      <th>99438</th>\n      <td>e9f50caf99f032f0bf3c55141f019d99</td>\n      <td>5e28dfe12db7fb50a4b2f691faecea5e</td>\n      <td>96093</td>\n    </tr>\n    <tr>\n      <th>99439</th>\n      <td>73c2643a0a458b49f58cea58833b192e</td>\n      <td>56b18e2166679b8a959d72dd06da27f9</td>\n      <td>96094</td>\n    </tr>\n    <tr>\n      <th>99440</th>\n      <td>84732c5050c01db9b23e19ba39899398</td>\n      <td>274fa6071e5e17fe303b9748641082c8</td>\n      <td>96095</td>\n    </tr>\n  </tbody>\n</table>\n<p>99441 rows × 3 columns</p>\n</div>"
     },
     "metadata": {},
     "execution_count": 11
    }
   ],
   "source": [
    "customer['new_customer_unique_id'] = new_cust_uniq_id\n",
    "customer"
   ]
  },
  {
   "source": [
    "# Hashing order id"
   ],
   "cell_type": "markdown",
   "metadata": {}
  },
  {
   "cell_type": "code",
   "execution_count": 12,
   "metadata": {},
   "outputs": [
    {
     "output_type": "execute_result",
     "data": {
      "text/plain": [
       "                            customer_id                          order_id\n",
       "0      9ef432eb6251297304e76186b10a928d  e481f51cbdc54678b7cc49136f2d6af7\n",
       "1      b0830fb4747a6c6d20dea0b8c802d7ef  53cdb2fc8bc7dce0b6741e2150273451\n",
       "2      41ce2a54c0b03bf3443c3d931a367089  47770eb9100c2d0c44946d9cf07ec65d\n",
       "3      f88197465ea7920adcdbec7375364d82  949d5b44dbf5de918fe9c16f97b45f8a\n",
       "4      8ab97904e6daea8866dbdbc4fb7aad2c  ad21c59c0840e6cb83a9ceb5573f8159\n",
       "...                                 ...                               ...\n",
       "99436  39bd1228ee8140590ac3aca26f2dfe00  9c5dedf39a927c1b2549525ed64a053c\n",
       "99437  1fca14ff2861355f6e5f14306ff977a7  63943bddc261676b46f01ca7ac2f7bd8\n",
       "99438  1aa71eb042121263aafbe80c1b562c9c  83c1379a015df1e13d02aae0204711ab\n",
       "99439  b331b74b18dc79bcdf6532d51e1637c1  11c177c8e97725db2631073c19f07b62\n",
       "99440  edb027a75a1449115f6b43211ae02a24  66dea50a8b16d9b4dee7af250b4be1a5\n",
       "\n",
       "[99441 rows x 2 columns]"
      ],
      "text/html": "<div>\n<style scoped>\n    .dataframe tbody tr th:only-of-type {\n        vertical-align: middle;\n    }\n\n    .dataframe tbody tr th {\n        vertical-align: top;\n    }\n\n    .dataframe thead th {\n        text-align: right;\n    }\n</style>\n<table border=\"1\" class=\"dataframe\">\n  <thead>\n    <tr style=\"text-align: right;\">\n      <th></th>\n      <th>customer_id</th>\n      <th>order_id</th>\n    </tr>\n  </thead>\n  <tbody>\n    <tr>\n      <th>0</th>\n      <td>9ef432eb6251297304e76186b10a928d</td>\n      <td>e481f51cbdc54678b7cc49136f2d6af7</td>\n    </tr>\n    <tr>\n      <th>1</th>\n      <td>b0830fb4747a6c6d20dea0b8c802d7ef</td>\n      <td>53cdb2fc8bc7dce0b6741e2150273451</td>\n    </tr>\n    <tr>\n      <th>2</th>\n      <td>41ce2a54c0b03bf3443c3d931a367089</td>\n      <td>47770eb9100c2d0c44946d9cf07ec65d</td>\n    </tr>\n    <tr>\n      <th>3</th>\n      <td>f88197465ea7920adcdbec7375364d82</td>\n      <td>949d5b44dbf5de918fe9c16f97b45f8a</td>\n    </tr>\n    <tr>\n      <th>4</th>\n      <td>8ab97904e6daea8866dbdbc4fb7aad2c</td>\n      <td>ad21c59c0840e6cb83a9ceb5573f8159</td>\n    </tr>\n    <tr>\n      <th>...</th>\n      <td>...</td>\n      <td>...</td>\n    </tr>\n    <tr>\n      <th>99436</th>\n      <td>39bd1228ee8140590ac3aca26f2dfe00</td>\n      <td>9c5dedf39a927c1b2549525ed64a053c</td>\n    </tr>\n    <tr>\n      <th>99437</th>\n      <td>1fca14ff2861355f6e5f14306ff977a7</td>\n      <td>63943bddc261676b46f01ca7ac2f7bd8</td>\n    </tr>\n    <tr>\n      <th>99438</th>\n      <td>1aa71eb042121263aafbe80c1b562c9c</td>\n      <td>83c1379a015df1e13d02aae0204711ab</td>\n    </tr>\n    <tr>\n      <th>99439</th>\n      <td>b331b74b18dc79bcdf6532d51e1637c1</td>\n      <td>11c177c8e97725db2631073c19f07b62</td>\n    </tr>\n    <tr>\n      <th>99440</th>\n      <td>edb027a75a1449115f6b43211ae02a24</td>\n      <td>66dea50a8b16d9b4dee7af250b4be1a5</td>\n    </tr>\n  </tbody>\n</table>\n<p>99441 rows × 2 columns</p>\n</div>"
     },
     "metadata": {},
     "execution_count": 12
    }
   ],
   "source": [
    "order"
   ]
  },
  {
   "cell_type": "code",
   "execution_count": 13,
   "metadata": {},
   "outputs": [
    {
     "output_type": "execute_result",
     "data": {
      "text/plain": [
       "99441"
      ]
     },
     "metadata": {},
     "execution_count": 13
    }
   ],
   "source": [
    "len(order.customer_id.unique())"
   ]
  },
  {
   "cell_type": "code",
   "execution_count": 14,
   "metadata": {},
   "outputs": [
    {
     "output_type": "execute_result",
     "data": {
      "text/plain": [
       "99441"
      ]
     },
     "metadata": {},
     "execution_count": 14
    }
   ],
   "source": [
    "len(order.order_id.unique())"
   ]
  },
  {
   "cell_type": "code",
   "execution_count": 15,
   "metadata": {},
   "outputs": [],
   "source": [
    "order_id_dict = {}\n",
    "new_order_id = []\n",
    "num = 0"
   ]
  },
  {
   "cell_type": "code",
   "execution_count": 16,
   "metadata": {},
   "outputs": [],
   "source": [
    "for i in order.order_id:\n",
    "    if i in order_id_dict:\n",
    "        new_order_id.append(order_id_dict[i])\n",
    "    else:\n",
    "        order_id_dict[i] = num\n",
    "        new_order_id.append(num)\n",
    "        num += 1"
   ]
  },
  {
   "cell_type": "code",
   "execution_count": 17,
   "metadata": {},
   "outputs": [
    {
     "output_type": "stream",
     "name": "stderr",
     "text": [
      "<ipython-input-17-f0d441749b54>:1: SettingWithCopyWarning: \nA value is trying to be set on a copy of a slice from a DataFrame.\nTry using .loc[row_indexer,col_indexer] = value instead\n\nSee the caveats in the documentation: https://pandas.pydata.org/pandas-docs/stable/user_guide/indexing.html#returning-a-view-versus-a-copy\n  order['new_order_id'] = new_order_id\n"
     ]
    }
   ],
   "source": [
    "order['new_order_id'] = new_order_id"
   ]
  },
  {
   "cell_type": "code",
   "execution_count": 18,
   "metadata": {},
   "outputs": [
    {
     "output_type": "execute_result",
     "data": {
      "text/plain": [
       "                            customer_id                          order_id  \\\n",
       "0      9ef432eb6251297304e76186b10a928d  e481f51cbdc54678b7cc49136f2d6af7   \n",
       "1      b0830fb4747a6c6d20dea0b8c802d7ef  53cdb2fc8bc7dce0b6741e2150273451   \n",
       "2      41ce2a54c0b03bf3443c3d931a367089  47770eb9100c2d0c44946d9cf07ec65d   \n",
       "3      f88197465ea7920adcdbec7375364d82  949d5b44dbf5de918fe9c16f97b45f8a   \n",
       "4      8ab97904e6daea8866dbdbc4fb7aad2c  ad21c59c0840e6cb83a9ceb5573f8159   \n",
       "...                                 ...                               ...   \n",
       "99436  39bd1228ee8140590ac3aca26f2dfe00  9c5dedf39a927c1b2549525ed64a053c   \n",
       "99437  1fca14ff2861355f6e5f14306ff977a7  63943bddc261676b46f01ca7ac2f7bd8   \n",
       "99438  1aa71eb042121263aafbe80c1b562c9c  83c1379a015df1e13d02aae0204711ab   \n",
       "99439  b331b74b18dc79bcdf6532d51e1637c1  11c177c8e97725db2631073c19f07b62   \n",
       "99440  edb027a75a1449115f6b43211ae02a24  66dea50a8b16d9b4dee7af250b4be1a5   \n",
       "\n",
       "       new_order_id  \n",
       "0                 0  \n",
       "1                 1  \n",
       "2                 2  \n",
       "3                 3  \n",
       "4                 4  \n",
       "...             ...  \n",
       "99436         99436  \n",
       "99437         99437  \n",
       "99438         99438  \n",
       "99439         99439  \n",
       "99440         99440  \n",
       "\n",
       "[99441 rows x 3 columns]"
      ],
      "text/html": "<div>\n<style scoped>\n    .dataframe tbody tr th:only-of-type {\n        vertical-align: middle;\n    }\n\n    .dataframe tbody tr th {\n        vertical-align: top;\n    }\n\n    .dataframe thead th {\n        text-align: right;\n    }\n</style>\n<table border=\"1\" class=\"dataframe\">\n  <thead>\n    <tr style=\"text-align: right;\">\n      <th></th>\n      <th>customer_id</th>\n      <th>order_id</th>\n      <th>new_order_id</th>\n    </tr>\n  </thead>\n  <tbody>\n    <tr>\n      <th>0</th>\n      <td>9ef432eb6251297304e76186b10a928d</td>\n      <td>e481f51cbdc54678b7cc49136f2d6af7</td>\n      <td>0</td>\n    </tr>\n    <tr>\n      <th>1</th>\n      <td>b0830fb4747a6c6d20dea0b8c802d7ef</td>\n      <td>53cdb2fc8bc7dce0b6741e2150273451</td>\n      <td>1</td>\n    </tr>\n    <tr>\n      <th>2</th>\n      <td>41ce2a54c0b03bf3443c3d931a367089</td>\n      <td>47770eb9100c2d0c44946d9cf07ec65d</td>\n      <td>2</td>\n    </tr>\n    <tr>\n      <th>3</th>\n      <td>f88197465ea7920adcdbec7375364d82</td>\n      <td>949d5b44dbf5de918fe9c16f97b45f8a</td>\n      <td>3</td>\n    </tr>\n    <tr>\n      <th>4</th>\n      <td>8ab97904e6daea8866dbdbc4fb7aad2c</td>\n      <td>ad21c59c0840e6cb83a9ceb5573f8159</td>\n      <td>4</td>\n    </tr>\n    <tr>\n      <th>...</th>\n      <td>...</td>\n      <td>...</td>\n      <td>...</td>\n    </tr>\n    <tr>\n      <th>99436</th>\n      <td>39bd1228ee8140590ac3aca26f2dfe00</td>\n      <td>9c5dedf39a927c1b2549525ed64a053c</td>\n      <td>99436</td>\n    </tr>\n    <tr>\n      <th>99437</th>\n      <td>1fca14ff2861355f6e5f14306ff977a7</td>\n      <td>63943bddc261676b46f01ca7ac2f7bd8</td>\n      <td>99437</td>\n    </tr>\n    <tr>\n      <th>99438</th>\n      <td>1aa71eb042121263aafbe80c1b562c9c</td>\n      <td>83c1379a015df1e13d02aae0204711ab</td>\n      <td>99438</td>\n    </tr>\n    <tr>\n      <th>99439</th>\n      <td>b331b74b18dc79bcdf6532d51e1637c1</td>\n      <td>11c177c8e97725db2631073c19f07b62</td>\n      <td>99439</td>\n    </tr>\n    <tr>\n      <th>99440</th>\n      <td>edb027a75a1449115f6b43211ae02a24</td>\n      <td>66dea50a8b16d9b4dee7af250b4be1a5</td>\n      <td>99440</td>\n    </tr>\n  </tbody>\n</table>\n<p>99441 rows × 3 columns</p>\n</div>"
     },
     "metadata": {},
     "execution_count": 18
    }
   ],
   "source": [
    "order"
   ]
  },
  {
   "source": [
    "# Hashing product id"
   ],
   "cell_type": "markdown",
   "metadata": {}
  },
  {
   "cell_type": "code",
   "execution_count": 19,
   "metadata": {},
   "outputs": [
    {
     "output_type": "execute_result",
     "data": {
      "text/plain": [
       "                             product_id              product_category_name\n",
       "0      1e9e8ef04dbcff4541ed26657ea517e5                         perfumaria\n",
       "1      3aa071139cb16b67ca9e5dea641aaa2f                              artes\n",
       "2      96bd76ec8810374ed1b65e291975717f                      esporte_lazer\n",
       "3      cef67bcfe19066a932b7673e239eb23d                              bebes\n",
       "4      9dc1a7de274444849c219cff195d0b71              utilidades_domesticas\n",
       "...                                 ...                                ...\n",
       "32946  a0b7d5a992ccda646f2d34e418fff5a0                   moveis_decoracao\n",
       "32947  bf4538d88321d0fd4412a93c974510e6  construcao_ferramentas_iluminacao\n",
       "32948  9a7c6041fa9592d9d9ef6cfe62a71f8c                    cama_mesa_banho\n",
       "32949  83808703fc0706a22e264b9d75f04a2e             informatica_acessorios\n",
       "32950  106392145fca363410d287a815be6de4                    cama_mesa_banho\n",
       "\n",
       "[32951 rows x 2 columns]"
      ],
      "text/html": "<div>\n<style scoped>\n    .dataframe tbody tr th:only-of-type {\n        vertical-align: middle;\n    }\n\n    .dataframe tbody tr th {\n        vertical-align: top;\n    }\n\n    .dataframe thead th {\n        text-align: right;\n    }\n</style>\n<table border=\"1\" class=\"dataframe\">\n  <thead>\n    <tr style=\"text-align: right;\">\n      <th></th>\n      <th>product_id</th>\n      <th>product_category_name</th>\n    </tr>\n  </thead>\n  <tbody>\n    <tr>\n      <th>0</th>\n      <td>1e9e8ef04dbcff4541ed26657ea517e5</td>\n      <td>perfumaria</td>\n    </tr>\n    <tr>\n      <th>1</th>\n      <td>3aa071139cb16b67ca9e5dea641aaa2f</td>\n      <td>artes</td>\n    </tr>\n    <tr>\n      <th>2</th>\n      <td>96bd76ec8810374ed1b65e291975717f</td>\n      <td>esporte_lazer</td>\n    </tr>\n    <tr>\n      <th>3</th>\n      <td>cef67bcfe19066a932b7673e239eb23d</td>\n      <td>bebes</td>\n    </tr>\n    <tr>\n      <th>4</th>\n      <td>9dc1a7de274444849c219cff195d0b71</td>\n      <td>utilidades_domesticas</td>\n    </tr>\n    <tr>\n      <th>...</th>\n      <td>...</td>\n      <td>...</td>\n    </tr>\n    <tr>\n      <th>32946</th>\n      <td>a0b7d5a992ccda646f2d34e418fff5a0</td>\n      <td>moveis_decoracao</td>\n    </tr>\n    <tr>\n      <th>32947</th>\n      <td>bf4538d88321d0fd4412a93c974510e6</td>\n      <td>construcao_ferramentas_iluminacao</td>\n    </tr>\n    <tr>\n      <th>32948</th>\n      <td>9a7c6041fa9592d9d9ef6cfe62a71f8c</td>\n      <td>cama_mesa_banho</td>\n    </tr>\n    <tr>\n      <th>32949</th>\n      <td>83808703fc0706a22e264b9d75f04a2e</td>\n      <td>informatica_acessorios</td>\n    </tr>\n    <tr>\n      <th>32950</th>\n      <td>106392145fca363410d287a815be6de4</td>\n      <td>cama_mesa_banho</td>\n    </tr>\n  </tbody>\n</table>\n<p>32951 rows × 2 columns</p>\n</div>"
     },
     "metadata": {},
     "execution_count": 19
    }
   ],
   "source": [
    "product"
   ]
  },
  {
   "cell_type": "code",
   "execution_count": 20,
   "metadata": {},
   "outputs": [
    {
     "output_type": "execute_result",
     "data": {
      "text/plain": [
       "32951"
      ]
     },
     "metadata": {},
     "execution_count": 20
    }
   ],
   "source": [
    "len(product.product_id.unique())"
   ]
  },
  {
   "cell_type": "code",
   "execution_count": 21,
   "metadata": {},
   "outputs": [],
   "source": [
    "new_product_id = [i for i in range(32951)]"
   ]
  },
  {
   "cell_type": "code",
   "execution_count": 22,
   "metadata": {},
   "outputs": [
    {
     "output_type": "stream",
     "name": "stderr",
     "text": [
      "<ipython-input-22-ce1ec0d3a1d6>:1: SettingWithCopyWarning: \nA value is trying to be set on a copy of a slice from a DataFrame.\nTry using .loc[row_indexer,col_indexer] = value instead\n\nSee the caveats in the documentation: https://pandas.pydata.org/pandas-docs/stable/user_guide/indexing.html#returning-a-view-versus-a-copy\n  product['new_product_id'] = new_product_id\n"
     ]
    },
    {
     "output_type": "execute_result",
     "data": {
      "text/plain": [
       "                             product_id              product_category_name  \\\n",
       "0      1e9e8ef04dbcff4541ed26657ea517e5                         perfumaria   \n",
       "1      3aa071139cb16b67ca9e5dea641aaa2f                              artes   \n",
       "2      96bd76ec8810374ed1b65e291975717f                      esporte_lazer   \n",
       "3      cef67bcfe19066a932b7673e239eb23d                              bebes   \n",
       "4      9dc1a7de274444849c219cff195d0b71              utilidades_domesticas   \n",
       "...                                 ...                                ...   \n",
       "32946  a0b7d5a992ccda646f2d34e418fff5a0                   moveis_decoracao   \n",
       "32947  bf4538d88321d0fd4412a93c974510e6  construcao_ferramentas_iluminacao   \n",
       "32948  9a7c6041fa9592d9d9ef6cfe62a71f8c                    cama_mesa_banho   \n",
       "32949  83808703fc0706a22e264b9d75f04a2e             informatica_acessorios   \n",
       "32950  106392145fca363410d287a815be6de4                    cama_mesa_banho   \n",
       "\n",
       "       new_product_id  \n",
       "0                   0  \n",
       "1                   1  \n",
       "2                   2  \n",
       "3                   3  \n",
       "4                   4  \n",
       "...               ...  \n",
       "32946           32946  \n",
       "32947           32947  \n",
       "32948           32948  \n",
       "32949           32949  \n",
       "32950           32950  \n",
       "\n",
       "[32951 rows x 3 columns]"
      ],
      "text/html": "<div>\n<style scoped>\n    .dataframe tbody tr th:only-of-type {\n        vertical-align: middle;\n    }\n\n    .dataframe tbody tr th {\n        vertical-align: top;\n    }\n\n    .dataframe thead th {\n        text-align: right;\n    }\n</style>\n<table border=\"1\" class=\"dataframe\">\n  <thead>\n    <tr style=\"text-align: right;\">\n      <th></th>\n      <th>product_id</th>\n      <th>product_category_name</th>\n      <th>new_product_id</th>\n    </tr>\n  </thead>\n  <tbody>\n    <tr>\n      <th>0</th>\n      <td>1e9e8ef04dbcff4541ed26657ea517e5</td>\n      <td>perfumaria</td>\n      <td>0</td>\n    </tr>\n    <tr>\n      <th>1</th>\n      <td>3aa071139cb16b67ca9e5dea641aaa2f</td>\n      <td>artes</td>\n      <td>1</td>\n    </tr>\n    <tr>\n      <th>2</th>\n      <td>96bd76ec8810374ed1b65e291975717f</td>\n      <td>esporte_lazer</td>\n      <td>2</td>\n    </tr>\n    <tr>\n      <th>3</th>\n      <td>cef67bcfe19066a932b7673e239eb23d</td>\n      <td>bebes</td>\n      <td>3</td>\n    </tr>\n    <tr>\n      <th>4</th>\n      <td>9dc1a7de274444849c219cff195d0b71</td>\n      <td>utilidades_domesticas</td>\n      <td>4</td>\n    </tr>\n    <tr>\n      <th>...</th>\n      <td>...</td>\n      <td>...</td>\n      <td>...</td>\n    </tr>\n    <tr>\n      <th>32946</th>\n      <td>a0b7d5a992ccda646f2d34e418fff5a0</td>\n      <td>moveis_decoracao</td>\n      <td>32946</td>\n    </tr>\n    <tr>\n      <th>32947</th>\n      <td>bf4538d88321d0fd4412a93c974510e6</td>\n      <td>construcao_ferramentas_iluminacao</td>\n      <td>32947</td>\n    </tr>\n    <tr>\n      <th>32948</th>\n      <td>9a7c6041fa9592d9d9ef6cfe62a71f8c</td>\n      <td>cama_mesa_banho</td>\n      <td>32948</td>\n    </tr>\n    <tr>\n      <th>32949</th>\n      <td>83808703fc0706a22e264b9d75f04a2e</td>\n      <td>informatica_acessorios</td>\n      <td>32949</td>\n    </tr>\n    <tr>\n      <th>32950</th>\n      <td>106392145fca363410d287a815be6de4</td>\n      <td>cama_mesa_banho</td>\n      <td>32950</td>\n    </tr>\n  </tbody>\n</table>\n<p>32951 rows × 3 columns</p>\n</div>"
     },
     "metadata": {},
     "execution_count": 22
    }
   ],
   "source": [
    "product['new_product_id'] = new_product_id\n",
    "product"
   ]
  },
  {
   "cell_type": "code",
   "execution_count": 23,
   "metadata": {},
   "outputs": [
    {
     "output_type": "execute_result",
     "data": {
      "text/plain": [
       "                     customer_unique_id                       customer_id  \\\n",
       "0      861eff4711a542e4b93843c6dd7febb0  06b8999e2fba1a1fbc88172c00ba8bc7   \n",
       "1      290c77bc529b7ac935b93aa66c333dc3  18955e83d337fd6b2def6b18a428ac77   \n",
       "2      060e732b5b29e8181a18229c7b0b2b5e  4e7b3e00288586ebd08712fdd0374a03   \n",
       "3      259dac757896d24d7702b9acbbff3f3c  b2b6027bc5c5109e529d4dc6358b12c3   \n",
       "4      345ecd01c38d18a9036ed96c73b8d066  4f2d8ab171c80ec8364f7c12e35b23ad   \n",
       "...                                 ...                               ...   \n",
       "99436  1a29b476fee25c95fbafc67c5ac95cf8  17ddf5dd5d51696bb3d7c6291687be6f   \n",
       "99437  d52a67c98be1cf6a5c84435bd38d095d  e7b71a9017aa05c9a7fd292d714858e8   \n",
       "99438  e9f50caf99f032f0bf3c55141f019d99  5e28dfe12db7fb50a4b2f691faecea5e   \n",
       "99439  73c2643a0a458b49f58cea58833b192e  56b18e2166679b8a959d72dd06da27f9   \n",
       "99440  84732c5050c01db9b23e19ba39899398  274fa6071e5e17fe303b9748641082c8   \n",
       "\n",
       "       new_customer_unique_id                          order_id  new_order_id  \n",
       "0                           0  00e7ee1b050b8499577073aeb2a297a1         88492  \n",
       "1                           1  29150127e6685892b6eab3eec79f59c7         90418  \n",
       "2                           2  b2059ed67ce144a36e2aa97d2c9e9ad2         22557  \n",
       "3                           3  951670f92359f4fe4a63112aa7306eba         32180  \n",
       "4                           4  6b7d50bd145f6fc7f33cebabd7e49d0f         69902  \n",
       "...                       ...                               ...           ...  \n",
       "99436                   96091  6760e20addcf0121e9d58f2f1ff14298          1822  \n",
       "99437                   96092  9ec0c8947d973db4f4e8dcf1fbfa8f1b         16146  \n",
       "99438                   96093  fed4434add09a6f332ea398efd656a5c         70778  \n",
       "99439                   96094  e31ec91cea1ecf97797787471f98a8c2         30836  \n",
       "99440                   96095  28db69209a75e59f20ccbb5c36a20b90         96137  \n",
       "\n",
       "[99441 rows x 5 columns]"
      ],
      "text/html": "<div>\n<style scoped>\n    .dataframe tbody tr th:only-of-type {\n        vertical-align: middle;\n    }\n\n    .dataframe tbody tr th {\n        vertical-align: top;\n    }\n\n    .dataframe thead th {\n        text-align: right;\n    }\n</style>\n<table border=\"1\" class=\"dataframe\">\n  <thead>\n    <tr style=\"text-align: right;\">\n      <th></th>\n      <th>customer_unique_id</th>\n      <th>customer_id</th>\n      <th>new_customer_unique_id</th>\n      <th>order_id</th>\n      <th>new_order_id</th>\n    </tr>\n  </thead>\n  <tbody>\n    <tr>\n      <th>0</th>\n      <td>861eff4711a542e4b93843c6dd7febb0</td>\n      <td>06b8999e2fba1a1fbc88172c00ba8bc7</td>\n      <td>0</td>\n      <td>00e7ee1b050b8499577073aeb2a297a1</td>\n      <td>88492</td>\n    </tr>\n    <tr>\n      <th>1</th>\n      <td>290c77bc529b7ac935b93aa66c333dc3</td>\n      <td>18955e83d337fd6b2def6b18a428ac77</td>\n      <td>1</td>\n      <td>29150127e6685892b6eab3eec79f59c7</td>\n      <td>90418</td>\n    </tr>\n    <tr>\n      <th>2</th>\n      <td>060e732b5b29e8181a18229c7b0b2b5e</td>\n      <td>4e7b3e00288586ebd08712fdd0374a03</td>\n      <td>2</td>\n      <td>b2059ed67ce144a36e2aa97d2c9e9ad2</td>\n      <td>22557</td>\n    </tr>\n    <tr>\n      <th>3</th>\n      <td>259dac757896d24d7702b9acbbff3f3c</td>\n      <td>b2b6027bc5c5109e529d4dc6358b12c3</td>\n      <td>3</td>\n      <td>951670f92359f4fe4a63112aa7306eba</td>\n      <td>32180</td>\n    </tr>\n    <tr>\n      <th>4</th>\n      <td>345ecd01c38d18a9036ed96c73b8d066</td>\n      <td>4f2d8ab171c80ec8364f7c12e35b23ad</td>\n      <td>4</td>\n      <td>6b7d50bd145f6fc7f33cebabd7e49d0f</td>\n      <td>69902</td>\n    </tr>\n    <tr>\n      <th>...</th>\n      <td>...</td>\n      <td>...</td>\n      <td>...</td>\n      <td>...</td>\n      <td>...</td>\n    </tr>\n    <tr>\n      <th>99436</th>\n      <td>1a29b476fee25c95fbafc67c5ac95cf8</td>\n      <td>17ddf5dd5d51696bb3d7c6291687be6f</td>\n      <td>96091</td>\n      <td>6760e20addcf0121e9d58f2f1ff14298</td>\n      <td>1822</td>\n    </tr>\n    <tr>\n      <th>99437</th>\n      <td>d52a67c98be1cf6a5c84435bd38d095d</td>\n      <td>e7b71a9017aa05c9a7fd292d714858e8</td>\n      <td>96092</td>\n      <td>9ec0c8947d973db4f4e8dcf1fbfa8f1b</td>\n      <td>16146</td>\n    </tr>\n    <tr>\n      <th>99438</th>\n      <td>e9f50caf99f032f0bf3c55141f019d99</td>\n      <td>5e28dfe12db7fb50a4b2f691faecea5e</td>\n      <td>96093</td>\n      <td>fed4434add09a6f332ea398efd656a5c</td>\n      <td>70778</td>\n    </tr>\n    <tr>\n      <th>99439</th>\n      <td>73c2643a0a458b49f58cea58833b192e</td>\n      <td>56b18e2166679b8a959d72dd06da27f9</td>\n      <td>96094</td>\n      <td>e31ec91cea1ecf97797787471f98a8c2</td>\n      <td>30836</td>\n    </tr>\n    <tr>\n      <th>99440</th>\n      <td>84732c5050c01db9b23e19ba39899398</td>\n      <td>274fa6071e5e17fe303b9748641082c8</td>\n      <td>96095</td>\n      <td>28db69209a75e59f20ccbb5c36a20b90</td>\n      <td>96137</td>\n    </tr>\n  </tbody>\n</table>\n<p>99441 rows × 5 columns</p>\n</div>"
     },
     "metadata": {},
     "execution_count": 23
    }
   ],
   "source": [
    "main_table = customer.merge(order,how='inner',on='customer_id')\n",
    "main_table"
   ]
  },
  {
   "cell_type": "code",
   "execution_count": 24,
   "metadata": {},
   "outputs": [
    {
     "output_type": "execute_result",
     "data": {
      "text/plain": [
       "                      customer_unique_id                       customer_id  \\\n",
       "0       861eff4711a542e4b93843c6dd7febb0  06b8999e2fba1a1fbc88172c00ba8bc7   \n",
       "1       290c77bc529b7ac935b93aa66c333dc3  18955e83d337fd6b2def6b18a428ac77   \n",
       "2       060e732b5b29e8181a18229c7b0b2b5e  4e7b3e00288586ebd08712fdd0374a03   \n",
       "3       259dac757896d24d7702b9acbbff3f3c  b2b6027bc5c5109e529d4dc6358b12c3   \n",
       "4       345ecd01c38d18a9036ed96c73b8d066  4f2d8ab171c80ec8364f7c12e35b23ad   \n",
       "...                                  ...                               ...   \n",
       "112645  1a29b476fee25c95fbafc67c5ac95cf8  17ddf5dd5d51696bb3d7c6291687be6f   \n",
       "112646  d52a67c98be1cf6a5c84435bd38d095d  e7b71a9017aa05c9a7fd292d714858e8   \n",
       "112647  e9f50caf99f032f0bf3c55141f019d99  5e28dfe12db7fb50a4b2f691faecea5e   \n",
       "112648  73c2643a0a458b49f58cea58833b192e  56b18e2166679b8a959d72dd06da27f9   \n",
       "112649  84732c5050c01db9b23e19ba39899398  274fa6071e5e17fe303b9748641082c8   \n",
       "\n",
       "        new_customer_unique_id                          order_id  \\\n",
       "0                            0  00e7ee1b050b8499577073aeb2a297a1   \n",
       "1                            1  29150127e6685892b6eab3eec79f59c7   \n",
       "2                            2  b2059ed67ce144a36e2aa97d2c9e9ad2   \n",
       "3                            3  951670f92359f4fe4a63112aa7306eba   \n",
       "4                            4  6b7d50bd145f6fc7f33cebabd7e49d0f   \n",
       "...                        ...                               ...   \n",
       "112645                   96091  6760e20addcf0121e9d58f2f1ff14298   \n",
       "112646                   96092  9ec0c8947d973db4f4e8dcf1fbfa8f1b   \n",
       "112647                   96093  fed4434add09a6f332ea398efd656a5c   \n",
       "112648                   96094  e31ec91cea1ecf97797787471f98a8c2   \n",
       "112649                   96095  28db69209a75e59f20ccbb5c36a20b90   \n",
       "\n",
       "        new_order_id                        product_id  \n",
       "0              88492  a9516a079e37a9c9c36b9b78b10169e8  \n",
       "1              90418  4aa6014eceb682077f9dc4bffebc05b0  \n",
       "2              22557  bd07b66896d6f1494f5b86251848ced7  \n",
       "3              32180  a5647c44af977b148e0a3a4751a09e2e  \n",
       "4              69902  9391a573abe00141c56e38d84d7d5b3b  \n",
       "...              ...                               ...  \n",
       "112645          1822  ccb4503d9d43d245d3b295d0544f988b  \n",
       "112646         16146  9ede6b0570a75a4b9de4f383329f99ee  \n",
       "112647         70778  7a5d2e1e131a860ae7d18f6fffa9d689  \n",
       "112648         30836  f819f0c84a64f02d3a5606ca95edd272  \n",
       "112649         96137  017692475c1c954ff597feda05131d73  \n",
       "\n",
       "[112650 rows x 6 columns]"
      ],
      "text/html": "<div>\n<style scoped>\n    .dataframe tbody tr th:only-of-type {\n        vertical-align: middle;\n    }\n\n    .dataframe tbody tr th {\n        vertical-align: top;\n    }\n\n    .dataframe thead th {\n        text-align: right;\n    }\n</style>\n<table border=\"1\" class=\"dataframe\">\n  <thead>\n    <tr style=\"text-align: right;\">\n      <th></th>\n      <th>customer_unique_id</th>\n      <th>customer_id</th>\n      <th>new_customer_unique_id</th>\n      <th>order_id</th>\n      <th>new_order_id</th>\n      <th>product_id</th>\n    </tr>\n  </thead>\n  <tbody>\n    <tr>\n      <th>0</th>\n      <td>861eff4711a542e4b93843c6dd7febb0</td>\n      <td>06b8999e2fba1a1fbc88172c00ba8bc7</td>\n      <td>0</td>\n      <td>00e7ee1b050b8499577073aeb2a297a1</td>\n      <td>88492</td>\n      <td>a9516a079e37a9c9c36b9b78b10169e8</td>\n    </tr>\n    <tr>\n      <th>1</th>\n      <td>290c77bc529b7ac935b93aa66c333dc3</td>\n      <td>18955e83d337fd6b2def6b18a428ac77</td>\n      <td>1</td>\n      <td>29150127e6685892b6eab3eec79f59c7</td>\n      <td>90418</td>\n      <td>4aa6014eceb682077f9dc4bffebc05b0</td>\n    </tr>\n    <tr>\n      <th>2</th>\n      <td>060e732b5b29e8181a18229c7b0b2b5e</td>\n      <td>4e7b3e00288586ebd08712fdd0374a03</td>\n      <td>2</td>\n      <td>b2059ed67ce144a36e2aa97d2c9e9ad2</td>\n      <td>22557</td>\n      <td>bd07b66896d6f1494f5b86251848ced7</td>\n    </tr>\n    <tr>\n      <th>3</th>\n      <td>259dac757896d24d7702b9acbbff3f3c</td>\n      <td>b2b6027bc5c5109e529d4dc6358b12c3</td>\n      <td>3</td>\n      <td>951670f92359f4fe4a63112aa7306eba</td>\n      <td>32180</td>\n      <td>a5647c44af977b148e0a3a4751a09e2e</td>\n    </tr>\n    <tr>\n      <th>4</th>\n      <td>345ecd01c38d18a9036ed96c73b8d066</td>\n      <td>4f2d8ab171c80ec8364f7c12e35b23ad</td>\n      <td>4</td>\n      <td>6b7d50bd145f6fc7f33cebabd7e49d0f</td>\n      <td>69902</td>\n      <td>9391a573abe00141c56e38d84d7d5b3b</td>\n    </tr>\n    <tr>\n      <th>...</th>\n      <td>...</td>\n      <td>...</td>\n      <td>...</td>\n      <td>...</td>\n      <td>...</td>\n      <td>...</td>\n    </tr>\n    <tr>\n      <th>112645</th>\n      <td>1a29b476fee25c95fbafc67c5ac95cf8</td>\n      <td>17ddf5dd5d51696bb3d7c6291687be6f</td>\n      <td>96091</td>\n      <td>6760e20addcf0121e9d58f2f1ff14298</td>\n      <td>1822</td>\n      <td>ccb4503d9d43d245d3b295d0544f988b</td>\n    </tr>\n    <tr>\n      <th>112646</th>\n      <td>d52a67c98be1cf6a5c84435bd38d095d</td>\n      <td>e7b71a9017aa05c9a7fd292d714858e8</td>\n      <td>96092</td>\n      <td>9ec0c8947d973db4f4e8dcf1fbfa8f1b</td>\n      <td>16146</td>\n      <td>9ede6b0570a75a4b9de4f383329f99ee</td>\n    </tr>\n    <tr>\n      <th>112647</th>\n      <td>e9f50caf99f032f0bf3c55141f019d99</td>\n      <td>5e28dfe12db7fb50a4b2f691faecea5e</td>\n      <td>96093</td>\n      <td>fed4434add09a6f332ea398efd656a5c</td>\n      <td>70778</td>\n      <td>7a5d2e1e131a860ae7d18f6fffa9d689</td>\n    </tr>\n    <tr>\n      <th>112648</th>\n      <td>73c2643a0a458b49f58cea58833b192e</td>\n      <td>56b18e2166679b8a959d72dd06da27f9</td>\n      <td>96094</td>\n      <td>e31ec91cea1ecf97797787471f98a8c2</td>\n      <td>30836</td>\n      <td>f819f0c84a64f02d3a5606ca95edd272</td>\n    </tr>\n    <tr>\n      <th>112649</th>\n      <td>84732c5050c01db9b23e19ba39899398</td>\n      <td>274fa6071e5e17fe303b9748641082c8</td>\n      <td>96095</td>\n      <td>28db69209a75e59f20ccbb5c36a20b90</td>\n      <td>96137</td>\n      <td>017692475c1c954ff597feda05131d73</td>\n    </tr>\n  </tbody>\n</table>\n<p>112650 rows × 6 columns</p>\n</div>"
     },
     "metadata": {},
     "execution_count": 24
    }
   ],
   "source": [
    "main_table = main_table.merge(orderItem,how='inner',on='order_id')\n",
    "main_table"
   ]
  },
  {
   "cell_type": "code",
   "execution_count": 25,
   "metadata": {},
   "outputs": [
    {
     "output_type": "execute_result",
     "data": {
      "text/plain": [
       "                      customer_unique_id                       customer_id  \\\n",
       "0       861eff4711a542e4b93843c6dd7febb0  06b8999e2fba1a1fbc88172c00ba8bc7   \n",
       "1       9eae34bbd3a474ec5d07949ca7de67c0  8912fc0c3bbf1e2fbf35819e21706718   \n",
       "2       9eae34bbd3a474ec5d07949ca7de67c0  8912fc0c3bbf1e2fbf35819e21706718   \n",
       "3       3c799d181c34d51f6d44bbbc563024db  f0ac8e5a239118859b1734e1087cbb1f   \n",
       "4       23397e992b09769faf5e66f9e171a241  6bc8d08963a135220ed6c6d098831f84   \n",
       "...                                  ...                               ...   \n",
       "112645  fb354969e06f2093c0083cbfbb91864e  f6c6d3e1e20969a5eed982163f959719   \n",
       "112646  5f2971f9805e3ccb030226e30c8e8390  da37711b17efd5f2539e8196ab215f04   \n",
       "112647  c64ede6d0ae8901b1b6fb03528c1b7e6  184e0c2cfc746789643521df0e9ff904   \n",
       "112648  046470763123d3d6364f89095b4e47ab  821a7275a08f32975caceff2e08ea262   \n",
       "112649  82d46759af0369aad49084bacf85a6c3  1ed0c832c2dd99570a59260e71768bdf   \n",
       "\n",
       "        new_customer_unique_id                          order_id  \\\n",
       "0                            0  00e7ee1b050b8499577073aeb2a297a1   \n",
       "1                         6167  c1d2b34febe9cd269e378117d6681172   \n",
       "2                         6167  c1d2b34febe9cd269e378117d6681172   \n",
       "3                        15932  b1a5d5365d330d10485e0203d54ab9e8   \n",
       "4                        19695  2e604b3614664aa66867856dba7e61b7   \n",
       "...                        ...                               ...   \n",
       "112645                   96063  b2f58affcc178fea2daaf834f1acff5e   \n",
       "112646                   96066  c8203bb57639618630affac9e8e923dd   \n",
       "112647                   96070  45b3000bcd10464ac178f32cd783fc83   \n",
       "112648                   96077  49645a8902c1ba980836b7bff991d69f   \n",
       "112649                   96084  51c6d2f460589fa7b65f2da51e860206   \n",
       "\n",
       "        new_order_id                        product_id  \\\n",
       "0              88492  a9516a079e37a9c9c36b9b78b10169e8   \n",
       "1              60047  a9516a079e37a9c9c36b9b78b10169e8   \n",
       "2              60047  a9516a079e37a9c9c36b9b78b10169e8   \n",
       "3              42931  a9516a079e37a9c9c36b9b78b10169e8   \n",
       "4              32077  a9516a079e37a9c9c36b9b78b10169e8   \n",
       "...              ...                               ...   \n",
       "112645         85555  9682ad2500ae8b2609e6a88eb0cbc5bb   \n",
       "112646         27170  aea06073397f809424f946979354c9f0   \n",
       "112647         62943  bbf975bffd2ae9ee52f513ae5c8a4b27   \n",
       "112648         40379  f6e0a9ce8a6e91c3a0ca2d3005911d20   \n",
       "112649         26310  c98bf47f7bea8f3aee82fa023786b8a1   \n",
       "\n",
       "              product_category_name  new_product_id  \n",
       "0                 moveis_escritorio           32209  \n",
       "1                 moveis_escritorio           32209  \n",
       "2                 moveis_escritorio           32209  \n",
       "3                 moveis_escritorio           32209  \n",
       "4                 moveis_escritorio           32209  \n",
       "...                             ...             ...  \n",
       "112645                casa_conforto            4113  \n",
       "112646                     pet_shop           15001  \n",
       "112647                 beleza_saude           25117  \n",
       "112648  fashion_bolsas_e_acessorios           21545  \n",
       "112649                  eletronicos            2802  \n",
       "\n",
       "[112650 rows x 8 columns]"
      ],
      "text/html": "<div>\n<style scoped>\n    .dataframe tbody tr th:only-of-type {\n        vertical-align: middle;\n    }\n\n    .dataframe tbody tr th {\n        vertical-align: top;\n    }\n\n    .dataframe thead th {\n        text-align: right;\n    }\n</style>\n<table border=\"1\" class=\"dataframe\">\n  <thead>\n    <tr style=\"text-align: right;\">\n      <th></th>\n      <th>customer_unique_id</th>\n      <th>customer_id</th>\n      <th>new_customer_unique_id</th>\n      <th>order_id</th>\n      <th>new_order_id</th>\n      <th>product_id</th>\n      <th>product_category_name</th>\n      <th>new_product_id</th>\n    </tr>\n  </thead>\n  <tbody>\n    <tr>\n      <th>0</th>\n      <td>861eff4711a542e4b93843c6dd7febb0</td>\n      <td>06b8999e2fba1a1fbc88172c00ba8bc7</td>\n      <td>0</td>\n      <td>00e7ee1b050b8499577073aeb2a297a1</td>\n      <td>88492</td>\n      <td>a9516a079e37a9c9c36b9b78b10169e8</td>\n      <td>moveis_escritorio</td>\n      <td>32209</td>\n    </tr>\n    <tr>\n      <th>1</th>\n      <td>9eae34bbd3a474ec5d07949ca7de67c0</td>\n      <td>8912fc0c3bbf1e2fbf35819e21706718</td>\n      <td>6167</td>\n      <td>c1d2b34febe9cd269e378117d6681172</td>\n      <td>60047</td>\n      <td>a9516a079e37a9c9c36b9b78b10169e8</td>\n      <td>moveis_escritorio</td>\n      <td>32209</td>\n    </tr>\n    <tr>\n      <th>2</th>\n      <td>9eae34bbd3a474ec5d07949ca7de67c0</td>\n      <td>8912fc0c3bbf1e2fbf35819e21706718</td>\n      <td>6167</td>\n      <td>c1d2b34febe9cd269e378117d6681172</td>\n      <td>60047</td>\n      <td>a9516a079e37a9c9c36b9b78b10169e8</td>\n      <td>moveis_escritorio</td>\n      <td>32209</td>\n    </tr>\n    <tr>\n      <th>3</th>\n      <td>3c799d181c34d51f6d44bbbc563024db</td>\n      <td>f0ac8e5a239118859b1734e1087cbb1f</td>\n      <td>15932</td>\n      <td>b1a5d5365d330d10485e0203d54ab9e8</td>\n      <td>42931</td>\n      <td>a9516a079e37a9c9c36b9b78b10169e8</td>\n      <td>moveis_escritorio</td>\n      <td>32209</td>\n    </tr>\n    <tr>\n      <th>4</th>\n      <td>23397e992b09769faf5e66f9e171a241</td>\n      <td>6bc8d08963a135220ed6c6d098831f84</td>\n      <td>19695</td>\n      <td>2e604b3614664aa66867856dba7e61b7</td>\n      <td>32077</td>\n      <td>a9516a079e37a9c9c36b9b78b10169e8</td>\n      <td>moveis_escritorio</td>\n      <td>32209</td>\n    </tr>\n    <tr>\n      <th>...</th>\n      <td>...</td>\n      <td>...</td>\n      <td>...</td>\n      <td>...</td>\n      <td>...</td>\n      <td>...</td>\n      <td>...</td>\n      <td>...</td>\n    </tr>\n    <tr>\n      <th>112645</th>\n      <td>fb354969e06f2093c0083cbfbb91864e</td>\n      <td>f6c6d3e1e20969a5eed982163f959719</td>\n      <td>96063</td>\n      <td>b2f58affcc178fea2daaf834f1acff5e</td>\n      <td>85555</td>\n      <td>9682ad2500ae8b2609e6a88eb0cbc5bb</td>\n      <td>casa_conforto</td>\n      <td>4113</td>\n    </tr>\n    <tr>\n      <th>112646</th>\n      <td>5f2971f9805e3ccb030226e30c8e8390</td>\n      <td>da37711b17efd5f2539e8196ab215f04</td>\n      <td>96066</td>\n      <td>c8203bb57639618630affac9e8e923dd</td>\n      <td>27170</td>\n      <td>aea06073397f809424f946979354c9f0</td>\n      <td>pet_shop</td>\n      <td>15001</td>\n    </tr>\n    <tr>\n      <th>112647</th>\n      <td>c64ede6d0ae8901b1b6fb03528c1b7e6</td>\n      <td>184e0c2cfc746789643521df0e9ff904</td>\n      <td>96070</td>\n      <td>45b3000bcd10464ac178f32cd783fc83</td>\n      <td>62943</td>\n      <td>bbf975bffd2ae9ee52f513ae5c8a4b27</td>\n      <td>beleza_saude</td>\n      <td>25117</td>\n    </tr>\n    <tr>\n      <th>112648</th>\n      <td>046470763123d3d6364f89095b4e47ab</td>\n      <td>821a7275a08f32975caceff2e08ea262</td>\n      <td>96077</td>\n      <td>49645a8902c1ba980836b7bff991d69f</td>\n      <td>40379</td>\n      <td>f6e0a9ce8a6e91c3a0ca2d3005911d20</td>\n      <td>fashion_bolsas_e_acessorios</td>\n      <td>21545</td>\n    </tr>\n    <tr>\n      <th>112649</th>\n      <td>82d46759af0369aad49084bacf85a6c3</td>\n      <td>1ed0c832c2dd99570a59260e71768bdf</td>\n      <td>96084</td>\n      <td>51c6d2f460589fa7b65f2da51e860206</td>\n      <td>26310</td>\n      <td>c98bf47f7bea8f3aee82fa023786b8a1</td>\n      <td>eletronicos</td>\n      <td>2802</td>\n    </tr>\n  </tbody>\n</table>\n<p>112650 rows × 8 columns</p>\n</div>"
     },
     "metadata": {},
     "execution_count": 25
    }
   ],
   "source": [
    "main_table = main_table.merge(product,how='inner',on='product_id')\n",
    "main_table"
   ]
  },
  {
   "cell_type": "code",
   "execution_count": 26,
   "metadata": {},
   "outputs": [
    {
     "output_type": "execute_result",
     "data": {
      "text/plain": [
       "                      customer_unique_id                       customer_id  \\\n",
       "0       861eff4711a542e4b93843c6dd7febb0  06b8999e2fba1a1fbc88172c00ba8bc7   \n",
       "1       9eae34bbd3a474ec5d07949ca7de67c0  8912fc0c3bbf1e2fbf35819e21706718   \n",
       "2       9eae34bbd3a474ec5d07949ca7de67c0  8912fc0c3bbf1e2fbf35819e21706718   \n",
       "3       3c799d181c34d51f6d44bbbc563024db  f0ac8e5a239118859b1734e1087cbb1f   \n",
       "4       23397e992b09769faf5e66f9e171a241  6bc8d08963a135220ed6c6d098831f84   \n",
       "...                                  ...                               ...   \n",
       "113317  fb354969e06f2093c0083cbfbb91864e  f6c6d3e1e20969a5eed982163f959719   \n",
       "113318  5f2971f9805e3ccb030226e30c8e8390  da37711b17efd5f2539e8196ab215f04   \n",
       "113319  c64ede6d0ae8901b1b6fb03528c1b7e6  184e0c2cfc746789643521df0e9ff904   \n",
       "113320  046470763123d3d6364f89095b4e47ab  821a7275a08f32975caceff2e08ea262   \n",
       "113321  82d46759af0369aad49084bacf85a6c3  1ed0c832c2dd99570a59260e71768bdf   \n",
       "\n",
       "        new_customer_unique_id                          order_id  \\\n",
       "0                            0  00e7ee1b050b8499577073aeb2a297a1   \n",
       "1                         6167  c1d2b34febe9cd269e378117d6681172   \n",
       "2                         6167  c1d2b34febe9cd269e378117d6681172   \n",
       "3                        15932  b1a5d5365d330d10485e0203d54ab9e8   \n",
       "4                        19695  2e604b3614664aa66867856dba7e61b7   \n",
       "...                        ...                               ...   \n",
       "113317                   96063  b2f58affcc178fea2daaf834f1acff5e   \n",
       "113318                   96066  c8203bb57639618630affac9e8e923dd   \n",
       "113319                   96070  45b3000bcd10464ac178f32cd783fc83   \n",
       "113320                   96077  49645a8902c1ba980836b7bff991d69f   \n",
       "113321                   96084  51c6d2f460589fa7b65f2da51e860206   \n",
       "\n",
       "        new_order_id                        product_id  \\\n",
       "0              88492  a9516a079e37a9c9c36b9b78b10169e8   \n",
       "1              60047  a9516a079e37a9c9c36b9b78b10169e8   \n",
       "2              60047  a9516a079e37a9c9c36b9b78b10169e8   \n",
       "3              42931  a9516a079e37a9c9c36b9b78b10169e8   \n",
       "4              32077  a9516a079e37a9c9c36b9b78b10169e8   \n",
       "...              ...                               ...   \n",
       "113317         85555  9682ad2500ae8b2609e6a88eb0cbc5bb   \n",
       "113318         27170  aea06073397f809424f946979354c9f0   \n",
       "113319         62943  bbf975bffd2ae9ee52f513ae5c8a4b27   \n",
       "113320         40379  f6e0a9ce8a6e91c3a0ca2d3005911d20   \n",
       "113321         26310  c98bf47f7bea8f3aee82fa023786b8a1   \n",
       "\n",
       "              product_category_name  new_product_id  \\\n",
       "0                 moveis_escritorio           32209   \n",
       "1                 moveis_escritorio           32209   \n",
       "2                 moveis_escritorio           32209   \n",
       "3                 moveis_escritorio           32209   \n",
       "4                 moveis_escritorio           32209   \n",
       "...                             ...             ...   \n",
       "113317                casa_conforto            4113   \n",
       "113318                     pet_shop           15001   \n",
       "113319                 beleza_saude           25117   \n",
       "113320  fashion_bolsas_e_acessorios           21545   \n",
       "113321                  eletronicos            2802   \n",
       "\n",
       "                               review_id  review_score  \n",
       "0       88b8b52d46df026a9d1ad2136a59b30b             4  \n",
       "1       7fc63200f12eebb5f387856afdd63db8             1  \n",
       "2       7fc63200f12eebb5f387856afdd63db8             1  \n",
       "3       251191809e37c1cffc16865947c18a4d             3  \n",
       "4       f7123bac5b91a0e2e38d8b41fd1206f4             4  \n",
       "...                                  ...           ...  \n",
       "113317  17e0e42ddf0dd7ebceff457b7c1da303             3  \n",
       "113318  f3642bae4843d919c4c53ec1ff8fe26d             4  \n",
       "113319  6dfe34036fd1f79225daeaca9cf083c2             4  \n",
       "113320  260447daa5d738ced8f4e0bbee8a08a2             5  \n",
       "113321  603f2873842a6975a43c54d305397d69             1  \n",
       "\n",
       "[113322 rows x 10 columns]"
      ],
      "text/html": "<div>\n<style scoped>\n    .dataframe tbody tr th:only-of-type {\n        vertical-align: middle;\n    }\n\n    .dataframe tbody tr th {\n        vertical-align: top;\n    }\n\n    .dataframe thead th {\n        text-align: right;\n    }\n</style>\n<table border=\"1\" class=\"dataframe\">\n  <thead>\n    <tr style=\"text-align: right;\">\n      <th></th>\n      <th>customer_unique_id</th>\n      <th>customer_id</th>\n      <th>new_customer_unique_id</th>\n      <th>order_id</th>\n      <th>new_order_id</th>\n      <th>product_id</th>\n      <th>product_category_name</th>\n      <th>new_product_id</th>\n      <th>review_id</th>\n      <th>review_score</th>\n    </tr>\n  </thead>\n  <tbody>\n    <tr>\n      <th>0</th>\n      <td>861eff4711a542e4b93843c6dd7febb0</td>\n      <td>06b8999e2fba1a1fbc88172c00ba8bc7</td>\n      <td>0</td>\n      <td>00e7ee1b050b8499577073aeb2a297a1</td>\n      <td>88492</td>\n      <td>a9516a079e37a9c9c36b9b78b10169e8</td>\n      <td>moveis_escritorio</td>\n      <td>32209</td>\n      <td>88b8b52d46df026a9d1ad2136a59b30b</td>\n      <td>4</td>\n    </tr>\n    <tr>\n      <th>1</th>\n      <td>9eae34bbd3a474ec5d07949ca7de67c0</td>\n      <td>8912fc0c3bbf1e2fbf35819e21706718</td>\n      <td>6167</td>\n      <td>c1d2b34febe9cd269e378117d6681172</td>\n      <td>60047</td>\n      <td>a9516a079e37a9c9c36b9b78b10169e8</td>\n      <td>moveis_escritorio</td>\n      <td>32209</td>\n      <td>7fc63200f12eebb5f387856afdd63db8</td>\n      <td>1</td>\n    </tr>\n    <tr>\n      <th>2</th>\n      <td>9eae34bbd3a474ec5d07949ca7de67c0</td>\n      <td>8912fc0c3bbf1e2fbf35819e21706718</td>\n      <td>6167</td>\n      <td>c1d2b34febe9cd269e378117d6681172</td>\n      <td>60047</td>\n      <td>a9516a079e37a9c9c36b9b78b10169e8</td>\n      <td>moveis_escritorio</td>\n      <td>32209</td>\n      <td>7fc63200f12eebb5f387856afdd63db8</td>\n      <td>1</td>\n    </tr>\n    <tr>\n      <th>3</th>\n      <td>3c799d181c34d51f6d44bbbc563024db</td>\n      <td>f0ac8e5a239118859b1734e1087cbb1f</td>\n      <td>15932</td>\n      <td>b1a5d5365d330d10485e0203d54ab9e8</td>\n      <td>42931</td>\n      <td>a9516a079e37a9c9c36b9b78b10169e8</td>\n      <td>moveis_escritorio</td>\n      <td>32209</td>\n      <td>251191809e37c1cffc16865947c18a4d</td>\n      <td>3</td>\n    </tr>\n    <tr>\n      <th>4</th>\n      <td>23397e992b09769faf5e66f9e171a241</td>\n      <td>6bc8d08963a135220ed6c6d098831f84</td>\n      <td>19695</td>\n      <td>2e604b3614664aa66867856dba7e61b7</td>\n      <td>32077</td>\n      <td>a9516a079e37a9c9c36b9b78b10169e8</td>\n      <td>moveis_escritorio</td>\n      <td>32209</td>\n      <td>f7123bac5b91a0e2e38d8b41fd1206f4</td>\n      <td>4</td>\n    </tr>\n    <tr>\n      <th>...</th>\n      <td>...</td>\n      <td>...</td>\n      <td>...</td>\n      <td>...</td>\n      <td>...</td>\n      <td>...</td>\n      <td>...</td>\n      <td>...</td>\n      <td>...</td>\n      <td>...</td>\n    </tr>\n    <tr>\n      <th>113317</th>\n      <td>fb354969e06f2093c0083cbfbb91864e</td>\n      <td>f6c6d3e1e20969a5eed982163f959719</td>\n      <td>96063</td>\n      <td>b2f58affcc178fea2daaf834f1acff5e</td>\n      <td>85555</td>\n      <td>9682ad2500ae8b2609e6a88eb0cbc5bb</td>\n      <td>casa_conforto</td>\n      <td>4113</td>\n      <td>17e0e42ddf0dd7ebceff457b7c1da303</td>\n      <td>3</td>\n    </tr>\n    <tr>\n      <th>113318</th>\n      <td>5f2971f9805e3ccb030226e30c8e8390</td>\n      <td>da37711b17efd5f2539e8196ab215f04</td>\n      <td>96066</td>\n      <td>c8203bb57639618630affac9e8e923dd</td>\n      <td>27170</td>\n      <td>aea06073397f809424f946979354c9f0</td>\n      <td>pet_shop</td>\n      <td>15001</td>\n      <td>f3642bae4843d919c4c53ec1ff8fe26d</td>\n      <td>4</td>\n    </tr>\n    <tr>\n      <th>113319</th>\n      <td>c64ede6d0ae8901b1b6fb03528c1b7e6</td>\n      <td>184e0c2cfc746789643521df0e9ff904</td>\n      <td>96070</td>\n      <td>45b3000bcd10464ac178f32cd783fc83</td>\n      <td>62943</td>\n      <td>bbf975bffd2ae9ee52f513ae5c8a4b27</td>\n      <td>beleza_saude</td>\n      <td>25117</td>\n      <td>6dfe34036fd1f79225daeaca9cf083c2</td>\n      <td>4</td>\n    </tr>\n    <tr>\n      <th>113320</th>\n      <td>046470763123d3d6364f89095b4e47ab</td>\n      <td>821a7275a08f32975caceff2e08ea262</td>\n      <td>96077</td>\n      <td>49645a8902c1ba980836b7bff991d69f</td>\n      <td>40379</td>\n      <td>f6e0a9ce8a6e91c3a0ca2d3005911d20</td>\n      <td>fashion_bolsas_e_acessorios</td>\n      <td>21545</td>\n      <td>260447daa5d738ced8f4e0bbee8a08a2</td>\n      <td>5</td>\n    </tr>\n    <tr>\n      <th>113321</th>\n      <td>82d46759af0369aad49084bacf85a6c3</td>\n      <td>1ed0c832c2dd99570a59260e71768bdf</td>\n      <td>96084</td>\n      <td>51c6d2f460589fa7b65f2da51e860206</td>\n      <td>26310</td>\n      <td>c98bf47f7bea8f3aee82fa023786b8a1</td>\n      <td>eletronicos</td>\n      <td>2802</td>\n      <td>603f2873842a6975a43c54d305397d69</td>\n      <td>1</td>\n    </tr>\n  </tbody>\n</table>\n<p>113322 rows × 10 columns</p>\n</div>"
     },
     "metadata": {},
     "execution_count": 26
    }
   ],
   "source": [
    "main_table = main_table.merge(reviews,how='inner',on='order_id')\n",
    "main_table"
   ]
  },
  {
   "cell_type": "code",
   "execution_count": 27,
   "metadata": {},
   "outputs": [],
   "source": [
    "main_table.to_csv(path_or_buf=\"F:\\\\Intern\\\\prediction_table\" + \".csv\",index=False)"
   ]
  },
  {
   "cell_type": "code",
   "execution_count": 28,
   "metadata": {},
   "outputs": [],
   "source": [
    "main_table.drop(['customer_unique_id','customer_id','order_id','new_order_id','product_id','review_id'],axis=1,inplace=True)"
   ]
  },
  {
   "cell_type": "code",
   "execution_count": 29,
   "metadata": {},
   "outputs": [
    {
     "output_type": "execute_result",
     "data": {
      "text/plain": [
       "        new_customer_unique_id        product_category_name  new_product_id  \\\n",
       "0                            0            moveis_escritorio           32209   \n",
       "1                         6167            moveis_escritorio           32209   \n",
       "2                         6167            moveis_escritorio           32209   \n",
       "3                        15932            moveis_escritorio           32209   \n",
       "4                        19695            moveis_escritorio           32209   \n",
       "...                        ...                          ...             ...   \n",
       "113317                   96063                casa_conforto            4113   \n",
       "113318                   96066                     pet_shop           15001   \n",
       "113319                   96070                 beleza_saude           25117   \n",
       "113320                   96077  fashion_bolsas_e_acessorios           21545   \n",
       "113321                   96084                  eletronicos            2802   \n",
       "\n",
       "        review_score  \n",
       "0                  4  \n",
       "1                  1  \n",
       "2                  1  \n",
       "3                  3  \n",
       "4                  4  \n",
       "...              ...  \n",
       "113317             3  \n",
       "113318             4  \n",
       "113319             4  \n",
       "113320             5  \n",
       "113321             1  \n",
       "\n",
       "[113322 rows x 4 columns]"
      ],
      "text/html": "<div>\n<style scoped>\n    .dataframe tbody tr th:only-of-type {\n        vertical-align: middle;\n    }\n\n    .dataframe tbody tr th {\n        vertical-align: top;\n    }\n\n    .dataframe thead th {\n        text-align: right;\n    }\n</style>\n<table border=\"1\" class=\"dataframe\">\n  <thead>\n    <tr style=\"text-align: right;\">\n      <th></th>\n      <th>new_customer_unique_id</th>\n      <th>product_category_name</th>\n      <th>new_product_id</th>\n      <th>review_score</th>\n    </tr>\n  </thead>\n  <tbody>\n    <tr>\n      <th>0</th>\n      <td>0</td>\n      <td>moveis_escritorio</td>\n      <td>32209</td>\n      <td>4</td>\n    </tr>\n    <tr>\n      <th>1</th>\n      <td>6167</td>\n      <td>moveis_escritorio</td>\n      <td>32209</td>\n      <td>1</td>\n    </tr>\n    <tr>\n      <th>2</th>\n      <td>6167</td>\n      <td>moveis_escritorio</td>\n      <td>32209</td>\n      <td>1</td>\n    </tr>\n    <tr>\n      <th>3</th>\n      <td>15932</td>\n      <td>moveis_escritorio</td>\n      <td>32209</td>\n      <td>3</td>\n    </tr>\n    <tr>\n      <th>4</th>\n      <td>19695</td>\n      <td>moveis_escritorio</td>\n      <td>32209</td>\n      <td>4</td>\n    </tr>\n    <tr>\n      <th>...</th>\n      <td>...</td>\n      <td>...</td>\n      <td>...</td>\n      <td>...</td>\n    </tr>\n    <tr>\n      <th>113317</th>\n      <td>96063</td>\n      <td>casa_conforto</td>\n      <td>4113</td>\n      <td>3</td>\n    </tr>\n    <tr>\n      <th>113318</th>\n      <td>96066</td>\n      <td>pet_shop</td>\n      <td>15001</td>\n      <td>4</td>\n    </tr>\n    <tr>\n      <th>113319</th>\n      <td>96070</td>\n      <td>beleza_saude</td>\n      <td>25117</td>\n      <td>4</td>\n    </tr>\n    <tr>\n      <th>113320</th>\n      <td>96077</td>\n      <td>fashion_bolsas_e_acessorios</td>\n      <td>21545</td>\n      <td>5</td>\n    </tr>\n    <tr>\n      <th>113321</th>\n      <td>96084</td>\n      <td>eletronicos</td>\n      <td>2802</td>\n      <td>1</td>\n    </tr>\n  </tbody>\n</table>\n<p>113322 rows × 4 columns</p>\n</div>"
     },
     "metadata": {},
     "execution_count": 29
    }
   ],
   "source": [
    "main_table"
   ]
  },
  {
   "cell_type": "code",
   "execution_count": 30,
   "metadata": {},
   "outputs": [],
   "source": [
    "main_table.to_csv(path_or_buf=\"F:\\\\Intern\\\\prediction_table2\" + \".csv\",index=False)"
   ]
  },
  {
   "source": [
    "# Translating Names"
   ],
   "cell_type": "markdown",
   "metadata": {}
  },
  {
   "cell_type": "code",
   "execution_count": 31,
   "metadata": {},
   "outputs": [],
   "source": [
    "p6 = r\"F:\\\\Intern\\\\dataset\\\\product_category_name_translation.csv\""
   ]
  },
  {
   "cell_type": "code",
   "execution_count": 32,
   "metadata": {},
   "outputs": [],
   "source": [
    "names = pd.read_csv(p6)"
   ]
  },
  {
   "cell_type": "code",
   "execution_count": 33,
   "metadata": {},
   "outputs": [
    {
     "output_type": "execute_result",
     "data": {
      "text/plain": [
       "                            product_category_name  \\\n",
       "0                                    beleza_saude   \n",
       "1                          informatica_acessorios   \n",
       "2                                      automotivo   \n",
       "3                                 cama_mesa_banho   \n",
       "4                                moveis_decoracao   \n",
       "..                                            ...   \n",
       "67                             artes_e_artesanato   \n",
       "68                                fraldas_higiene   \n",
       "69                  fashion_roupa_infanto_juvenil   \n",
       "70                             seguros_e_servicos   \n",
       "71  portateis_cozinha_e_preparadores_de_alimentos   \n",
       "\n",
       "           product_category_name_english  \n",
       "0                          health_beauty  \n",
       "1                  computers_accessories  \n",
       "2                                   auto  \n",
       "3                         bed_bath_table  \n",
       "4                        furniture_decor  \n",
       "..                                   ...  \n",
       "67                 arts_and_craftmanship  \n",
       "68                   diapers_and_hygiene  \n",
       "69             fashion_childrens_clothes  \n",
       "70                 security_and_services  \n",
       "71  kitchen_laptops and_food_preparators  \n",
       "\n",
       "[72 rows x 2 columns]"
      ],
      "text/html": "<div>\n<style scoped>\n    .dataframe tbody tr th:only-of-type {\n        vertical-align: middle;\n    }\n\n    .dataframe tbody tr th {\n        vertical-align: top;\n    }\n\n    .dataframe thead th {\n        text-align: right;\n    }\n</style>\n<table border=\"1\" class=\"dataframe\">\n  <thead>\n    <tr style=\"text-align: right;\">\n      <th></th>\n      <th>product_category_name</th>\n      <th>product_category_name_english</th>\n    </tr>\n  </thead>\n  <tbody>\n    <tr>\n      <th>0</th>\n      <td>beleza_saude</td>\n      <td>health_beauty</td>\n    </tr>\n    <tr>\n      <th>1</th>\n      <td>informatica_acessorios</td>\n      <td>computers_accessories</td>\n    </tr>\n    <tr>\n      <th>2</th>\n      <td>automotivo</td>\n      <td>auto</td>\n    </tr>\n    <tr>\n      <th>3</th>\n      <td>cama_mesa_banho</td>\n      <td>bed_bath_table</td>\n    </tr>\n    <tr>\n      <th>4</th>\n      <td>moveis_decoracao</td>\n      <td>furniture_decor</td>\n    </tr>\n    <tr>\n      <th>...</th>\n      <td>...</td>\n      <td>...</td>\n    </tr>\n    <tr>\n      <th>67</th>\n      <td>artes_e_artesanato</td>\n      <td>arts_and_craftmanship</td>\n    </tr>\n    <tr>\n      <th>68</th>\n      <td>fraldas_higiene</td>\n      <td>diapers_and_hygiene</td>\n    </tr>\n    <tr>\n      <th>69</th>\n      <td>fashion_roupa_infanto_juvenil</td>\n      <td>fashion_childrens_clothes</td>\n    </tr>\n    <tr>\n      <th>70</th>\n      <td>seguros_e_servicos</td>\n      <td>security_and_services</td>\n    </tr>\n    <tr>\n      <th>71</th>\n      <td>portateis_cozinha_e_preparadores_de_alimentos</td>\n      <td>kitchen_laptops and_food_preparators</td>\n    </tr>\n  </tbody>\n</table>\n<p>72 rows × 2 columns</p>\n</div>"
     },
     "metadata": {},
     "execution_count": 33
    }
   ],
   "source": [
    "names"
   ]
  },
  {
   "cell_type": "code",
   "execution_count": 34,
   "metadata": {},
   "outputs": [],
   "source": [
    "main_table.dropna(inplace=True)"
   ]
  },
  {
   "cell_type": "code",
   "execution_count": 35,
   "metadata": {},
   "outputs": [],
   "source": [
    "names_dict = {}\n",
    "for ind in names.index:\n",
    "    names_dict[names['product_category_name'][ind]] = names['product_category_name_english'][ind]"
   ]
  },
  {
   "cell_type": "code",
   "execution_count": 37,
   "metadata": {},
   "outputs": [],
   "source": [
    "english_names = []\n",
    "for each in main_table.product_category_name:\n",
    "    if each in names_dict:\n",
    "        english_names.append(names_dict[each])\n",
    "    else:\n",
    "        english_names.append(each)"
   ]
  },
  {
   "cell_type": "code",
   "execution_count": 38,
   "metadata": {},
   "outputs": [],
   "source": [
    "main_table['english_name'] = english_names"
   ]
  },
  {
   "cell_type": "code",
   "execution_count": 39,
   "metadata": {},
   "outputs": [
    {
     "output_type": "execute_result",
     "data": {
      "text/plain": [
       "        new_customer_unique_id        product_category_name  new_product_id  \\\n",
       "0                            0            moveis_escritorio           32209   \n",
       "1                         6167            moveis_escritorio           32209   \n",
       "2                         6167            moveis_escritorio           32209   \n",
       "3                        15932            moveis_escritorio           32209   \n",
       "4                        19695            moveis_escritorio           32209   \n",
       "...                        ...                          ...             ...   \n",
       "113317                   96063                casa_conforto            4113   \n",
       "113318                   96066                     pet_shop           15001   \n",
       "113319                   96070                 beleza_saude           25117   \n",
       "113320                   96077  fashion_bolsas_e_acessorios           21545   \n",
       "113321                   96084                  eletronicos            2802   \n",
       "\n",
       "        review_score              english_name  \n",
       "0                  4          office_furniture  \n",
       "1                  1          office_furniture  \n",
       "2                  1          office_furniture  \n",
       "3                  3          office_furniture  \n",
       "4                  4          office_furniture  \n",
       "...              ...                       ...  \n",
       "113317             3              home_confort  \n",
       "113318             4                  pet_shop  \n",
       "113319             4             health_beauty  \n",
       "113320             5  fashion_bags_accessories  \n",
       "113321             1               electronics  \n",
       "\n",
       "[111710 rows x 5 columns]"
      ],
      "text/html": "<div>\n<style scoped>\n    .dataframe tbody tr th:only-of-type {\n        vertical-align: middle;\n    }\n\n    .dataframe tbody tr th {\n        vertical-align: top;\n    }\n\n    .dataframe thead th {\n        text-align: right;\n    }\n</style>\n<table border=\"1\" class=\"dataframe\">\n  <thead>\n    <tr style=\"text-align: right;\">\n      <th></th>\n      <th>new_customer_unique_id</th>\n      <th>product_category_name</th>\n      <th>new_product_id</th>\n      <th>review_score</th>\n      <th>english_name</th>\n    </tr>\n  </thead>\n  <tbody>\n    <tr>\n      <th>0</th>\n      <td>0</td>\n      <td>moveis_escritorio</td>\n      <td>32209</td>\n      <td>4</td>\n      <td>office_furniture</td>\n    </tr>\n    <tr>\n      <th>1</th>\n      <td>6167</td>\n      <td>moveis_escritorio</td>\n      <td>32209</td>\n      <td>1</td>\n      <td>office_furniture</td>\n    </tr>\n    <tr>\n      <th>2</th>\n      <td>6167</td>\n      <td>moveis_escritorio</td>\n      <td>32209</td>\n      <td>1</td>\n      <td>office_furniture</td>\n    </tr>\n    <tr>\n      <th>3</th>\n      <td>15932</td>\n      <td>moveis_escritorio</td>\n      <td>32209</td>\n      <td>3</td>\n      <td>office_furniture</td>\n    </tr>\n    <tr>\n      <th>4</th>\n      <td>19695</td>\n      <td>moveis_escritorio</td>\n      <td>32209</td>\n      <td>4</td>\n      <td>office_furniture</td>\n    </tr>\n    <tr>\n      <th>...</th>\n      <td>...</td>\n      <td>...</td>\n      <td>...</td>\n      <td>...</td>\n      <td>...</td>\n    </tr>\n    <tr>\n      <th>113317</th>\n      <td>96063</td>\n      <td>casa_conforto</td>\n      <td>4113</td>\n      <td>3</td>\n      <td>home_confort</td>\n    </tr>\n    <tr>\n      <th>113318</th>\n      <td>96066</td>\n      <td>pet_shop</td>\n      <td>15001</td>\n      <td>4</td>\n      <td>pet_shop</td>\n    </tr>\n    <tr>\n      <th>113319</th>\n      <td>96070</td>\n      <td>beleza_saude</td>\n      <td>25117</td>\n      <td>4</td>\n      <td>health_beauty</td>\n    </tr>\n    <tr>\n      <th>113320</th>\n      <td>96077</td>\n      <td>fashion_bolsas_e_acessorios</td>\n      <td>21545</td>\n      <td>5</td>\n      <td>fashion_bags_accessories</td>\n    </tr>\n    <tr>\n      <th>113321</th>\n      <td>96084</td>\n      <td>eletronicos</td>\n      <td>2802</td>\n      <td>1</td>\n      <td>electronics</td>\n    </tr>\n  </tbody>\n</table>\n<p>111710 rows × 5 columns</p>\n</div>"
     },
     "metadata": {},
     "execution_count": 39
    }
   ],
   "source": [
    "main_table"
   ]
  },
  {
   "cell_type": "code",
   "execution_count": 43,
   "metadata": {},
   "outputs": [],
   "source": [
    "main_table.drop(['product_category_name'],axis=1, inplace=True)"
   ]
  },
  {
   "cell_type": "code",
   "execution_count": 44,
   "metadata": {},
   "outputs": [],
   "source": [
    "main_table.to_csv(path_or_buf=\"F:\\\\Intern\\\\prediction_table3\" + \".csv\",index=False)"
   ]
  }
 ]
}